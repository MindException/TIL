{
 "cells": [
  {
   "cell_type": "markdown",
   "id": "9f085c9f",
   "metadata": {},
   "source": [
    "# 확률 밀도\n",
    "\n",
    "확률밀도에 대해서 알기 전에 먼저 누적분포 함수에 대해서 알아야한다.\n",
    "확률질량 함수, 누적분포 함수, 밀도 순으로 알아보려 한다."
   ]
  },
  {
   "cell_type": "markdown",
   "id": "33888d87",
   "metadata": {},
   "source": [
    "$$ 확률밀도 함수 = \\frac {확률(질량)}{구간의 길이(부피)} = \\frac {f(x) dx}{dx} $$"
   ]
  }
 ],
 "metadata": {
  "kernelspec": {
   "display_name": "Python 3 (ipykernel)",
   "language": "python",
   "name": "python3"
  },
  "language_info": {
   "codemirror_mode": {
    "name": "ipython",
    "version": 3
   },
   "file_extension": ".py",
   "mimetype": "text/x-python",
   "name": "python",
   "nbconvert_exporter": "python",
   "pygments_lexer": "ipython3",
   "version": "3.9.7"
  }
 },
 "nbformat": 4,
 "nbformat_minor": 5
}
