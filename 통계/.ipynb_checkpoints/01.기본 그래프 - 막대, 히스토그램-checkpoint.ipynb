{
 "cells": [
  {
   "cell_type": "markdown",
   "id": "a9b07e43",
   "metadata": {},
   "source": [
    "## 도수분포표\n",
    "\n",
    "자료를 크기수능로 배열할 때 특정한 자료의 값이 반복되어서 나오는 경우, 반복되는 횟수를 그 값의 도수(frequency)라고 한다.  \n",
    "따라서 자료의 값과 도수를 정리한 표를 도수분포표(frequency table)이라고 한다.\n",
    "\n",
    "*예시"
   ]
  },
  {
   "cell_type": "code",
   "execution_count": 4,
   "id": "7ddec9d8",
   "metadata": {},
   "outputs": [],
   "source": [
    "import numpy as np\n",
    "import pandas as pd"
   ]
  },
  {
   "cell_type": "code",
   "execution_count": 5,
   "id": "2c34c31a",
   "metadata": {},
   "outputs": [
    {
     "name": "stdout",
     "output_type": "stream",
     "text": [
      "[3 7 1 5 9 2 4 7 6 1 5 9 8 3 1 6 2 7 4 2 3 7 1 2 5 8 2 7 4 1]\n"
     ]
    }
   ],
   "source": [
    "data = np.random.randint(1, 10, size = 30)\n",
    "print(data)"
   ]
  },
  {
   "cell_type": "markdown",
   "id": "630d6ed2",
   "metadata": {},
   "source": [
    "1부터 9까지의 값을 갖는 30개의 난수를 생성합니다."
   ]
  },
  {
   "cell_type": "code",
   "execution_count": 6,
   "id": "a9d30344",
   "metadata": {},
   "outputs": [
    {
     "data": {
      "text/plain": [
       "7    5\n",
       "1    5\n",
       "2    5\n",
       "3    3\n",
       "5    3\n",
       "4    3\n",
       "9    2\n",
       "6    2\n",
       "8    2\n",
       "dtype: int64"
      ]
     },
     "execution_count": 6,
     "metadata": {},
     "output_type": "execute_result"
    }
   ],
   "source": [
    "data_Series = pd.Series(data)\n",
    "data_frequency = data_Series.value_counts()\n",
    "data_frequency"
   ]
  },
  {
   "cell_type": "markdown",
   "id": "79935aea",
   "metadata": {},
   "source": [
    "시리즈로 변환 후 기본적인 도수분포를 알기 위하여 .value_counts()함수를 사용한다.  \n",
    "좀 더 예쁘게 보기 위하여 아래와 같이 내용을 추가하여 본다."
   ]
  },
  {
   "cell_type": "code",
   "execution_count": 7,
   "id": "d0a7bba3",
   "metadata": {},
   "outputs": [
    {
     "data": {
      "text/html": [
       "<div>\n",
       "<style scoped>\n",
       "    .dataframe tbody tr th:only-of-type {\n",
       "        vertical-align: middle;\n",
       "    }\n",
       "\n",
       "    .dataframe tbody tr th {\n",
       "        vertical-align: top;\n",
       "    }\n",
       "\n",
       "    .dataframe thead th {\n",
       "        text-align: right;\n",
       "    }\n",
       "</style>\n",
       "<table border=\"1\" class=\"dataframe\">\n",
       "  <thead>\n",
       "    <tr style=\"text-align: right;\">\n",
       "      <th></th>\n",
       "      <th>도수</th>\n",
       "      <th>백분율(%)</th>\n",
       "    </tr>\n",
       "  </thead>\n",
       "  <tbody>\n",
       "    <tr>\n",
       "      <th>7</th>\n",
       "      <td>5</td>\n",
       "      <td>16.67</td>\n",
       "    </tr>\n",
       "    <tr>\n",
       "      <th>1</th>\n",
       "      <td>5</td>\n",
       "      <td>16.67</td>\n",
       "    </tr>\n",
       "    <tr>\n",
       "      <th>2</th>\n",
       "      <td>5</td>\n",
       "      <td>16.67</td>\n",
       "    </tr>\n",
       "    <tr>\n",
       "      <th>3</th>\n",
       "      <td>3</td>\n",
       "      <td>10.00</td>\n",
       "    </tr>\n",
       "    <tr>\n",
       "      <th>5</th>\n",
       "      <td>3</td>\n",
       "      <td>10.00</td>\n",
       "    </tr>\n",
       "    <tr>\n",
       "      <th>4</th>\n",
       "      <td>3</td>\n",
       "      <td>10.00</td>\n",
       "    </tr>\n",
       "    <tr>\n",
       "      <th>9</th>\n",
       "      <td>2</td>\n",
       "      <td>6.67</td>\n",
       "    </tr>\n",
       "    <tr>\n",
       "      <th>6</th>\n",
       "      <td>2</td>\n",
       "      <td>6.67</td>\n",
       "    </tr>\n",
       "    <tr>\n",
       "      <th>8</th>\n",
       "      <td>2</td>\n",
       "      <td>6.67</td>\n",
       "    </tr>\n",
       "  </tbody>\n",
       "</table>\n",
       "</div>"
      ],
      "text/plain": [
       "   도수  백분율(%)\n",
       "7   5   16.67\n",
       "1   5   16.67\n",
       "2   5   16.67\n",
       "3   3   10.00\n",
       "5   3   10.00\n",
       "4   3   10.00\n",
       "9   2    6.67\n",
       "6   2    6.67\n",
       "8   2    6.67"
      ]
     },
     "execution_count": 7,
     "metadata": {},
     "output_type": "execute_result"
    }
   ],
   "source": [
    "#백분율 구하기\n",
    "data_Percent = ((data_frequency / data_frequency.sum()) * 100).round(2)\n",
    "data_Percent\n",
    "\n",
    "#데이터 병합\n",
    "data_frequency_table = pd.concat([data_frequency, data_Percent], axis = 1)\n",
    "data_frequency_table.columns = ['도수', '백분율(%)']\n",
    "data_frequency_table"
   ]
  },
  {
   "cell_type": "markdown",
   "id": "7af441eb",
   "metadata": {},
   "source": [
    "시리즈를 합치기 위하여 concat을 사용하였으며 row형태가 아닌 column 형태로 합치기 위하여 axis를 기본 값이 0이 아닌 1로 설정한다.  \n",
    "여기서 좀 더 예쁘게 하기 위하여 계급(index)을 정렬 후 합계 행을 추가하여 본다."
   ]
  },
  {
   "cell_type": "code",
   "execution_count": 8,
   "id": "62f763cc",
   "metadata": {},
   "outputs": [
    {
     "data": {
      "text/html": [
       "<div>\n",
       "<style scoped>\n",
       "    .dataframe tbody tr th:only-of-type {\n",
       "        vertical-align: middle;\n",
       "    }\n",
       "\n",
       "    .dataframe tbody tr th {\n",
       "        vertical-align: top;\n",
       "    }\n",
       "\n",
       "    .dataframe thead th {\n",
       "        text-align: right;\n",
       "    }\n",
       "</style>\n",
       "<table border=\"1\" class=\"dataframe\">\n",
       "  <thead>\n",
       "    <tr style=\"text-align: right;\">\n",
       "      <th></th>\n",
       "      <th>도수</th>\n",
       "      <th>백분율(%)</th>\n",
       "    </tr>\n",
       "  </thead>\n",
       "  <tbody>\n",
       "    <tr>\n",
       "      <th>1</th>\n",
       "      <td>5</td>\n",
       "      <td>16.67</td>\n",
       "    </tr>\n",
       "    <tr>\n",
       "      <th>2</th>\n",
       "      <td>5</td>\n",
       "      <td>16.67</td>\n",
       "    </tr>\n",
       "    <tr>\n",
       "      <th>3</th>\n",
       "      <td>3</td>\n",
       "      <td>10.00</td>\n",
       "    </tr>\n",
       "    <tr>\n",
       "      <th>4</th>\n",
       "      <td>3</td>\n",
       "      <td>10.00</td>\n",
       "    </tr>\n",
       "    <tr>\n",
       "      <th>5</th>\n",
       "      <td>3</td>\n",
       "      <td>10.00</td>\n",
       "    </tr>\n",
       "    <tr>\n",
       "      <th>6</th>\n",
       "      <td>2</td>\n",
       "      <td>6.67</td>\n",
       "    </tr>\n",
       "    <tr>\n",
       "      <th>7</th>\n",
       "      <td>5</td>\n",
       "      <td>16.67</td>\n",
       "    </tr>\n",
       "    <tr>\n",
       "      <th>8</th>\n",
       "      <td>2</td>\n",
       "      <td>6.67</td>\n",
       "    </tr>\n",
       "    <tr>\n",
       "      <th>9</th>\n",
       "      <td>2</td>\n",
       "      <td>6.67</td>\n",
       "    </tr>\n",
       "    <tr>\n",
       "      <th>합계</th>\n",
       "      <td>30</td>\n",
       "      <td>100.00</td>\n",
       "    </tr>\n",
       "  </tbody>\n",
       "</table>\n",
       "</div>"
      ],
      "text/plain": [
       "    도수  백분율(%)\n",
       "1    5   16.67\n",
       "2    5   16.67\n",
       "3    3   10.00\n",
       "4    3   10.00\n",
       "5    3   10.00\n",
       "6    2    6.67\n",
       "7    5   16.67\n",
       "8    2    6.67\n",
       "9    2    6.67\n",
       "합계  30  100.00"
      ]
     },
     "execution_count": 8,
     "metadata": {},
     "output_type": "execute_result"
    }
   ],
   "source": [
    "#인덱스 기준 테이블 정렬\n",
    "sorted_table = data_frequency_table.sort_index()\n",
    "\n",
    "#마지막 합계 행 추가\n",
    "total_Series = pd.Series([30, 100], name = \"합계\", index = ['도수', '백분율(%)'])\n",
    "final_table = sorted_table.append(total_Series)\n",
    "final_table"
   ]
  },
  {
   "cell_type": "markdown",
   "id": "357f38f0",
   "metadata": {},
   "source": [
    "## 막대 그래프\n",
    "\n",
    "막대 그래프는 데이터가 단일변수 자료이며, 계급이 사과, 배 등과 같은 크기를 측정할수 없는 범주형 자료를 시각화한 그래프이다.  \n",
    "범주형 자료(질적 변수)는 순서와 크기가 의미 없는 명목형 변수와 의미가 있는 순서형(서열) 변수가 있다.\n",
    "\n",
    "*예시"
   ]
  },
  {
   "cell_type": "code",
   "execution_count": 9,
   "id": "cbb51751",
   "metadata": {},
   "outputs": [],
   "source": [
    "import matplotlib as mpl\n",
    "import matplotlib.pyplot as plt"
   ]
  },
  {
   "cell_type": "code",
   "execution_count": 11,
   "id": "709c6fc5",
   "metadata": {},
   "outputs": [],
   "source": [
    "# matplotlib 한글화\n",
    "import koreanize_matplotlib\n",
    "\n",
    "#경고 무시\n",
    "import warnings\n",
    "warnings.filterwarnings('ignore')"
   ]
  },
  {
   "cell_type": "markdown",
   "id": "903fb570",
   "metadata": {},
   "source": [
    "#### x축 기준 막대그래프"
   ]
  },
  {
   "cell_type": "code",
   "execution_count": 32,
   "id": "71705ca1",
   "metadata": {},
   "outputs": [
    {
     "data": {
      "image/png": "[encoded data removed]",
      "text/plain": [
       "<Figure size 432x288 with 1 Axes>"
      ]
     },
     "metadata": {
      "needs_background": "light"
     },
     "output_type": "display_data"
    }
   ],
   "source": [
    "data = {\n",
    "    '바나나' : 3, '사과' : 2, '오랜지' :10\n",
    "}\n",
    "\n",
    "# 선 : plot , 바 : bar\n",
    "# print(data.keys(), data.values())\n",
    "plt.bar([0,1,2], data.values())\n",
    "plt.title('과일 개수')\n",
    "plt.xticks([0, 1, 2], data.keys())\n",
    "plt.yticks(sorted(data.values()))\n",
    "plt.grid(True)\n",
    "plt.xlabel('과일')\n",
    "plt.ylabel('개수')\n",
    "plt.show()"
   ]
  },
  {
   "cell_type": "markdown",
   "id": "c2f2ee85",
   "metadata": {},
   "source": [
    "<ol>\n",
    "      <li>bar: 막대의 개수만큼의 리스트와 범주의 도수값을 입력한다.</li>\n",
    "      <li>title: 그래프 제목</li>\n",
    "      <li>xticks: 범주명을 입력한다.</li>\n",
    "      <li>yticks: 도수들을 표시한다. 위와 같이 y축은 증가하는 형태로 2,3,10으로 가기 때문에 sorted를 통하여 입력하여 한다.</li>\n",
    "      <li>grid: 눈금선을 표현한다.</li>\n",
    "      <li>xlabel: y축 도수</li>\n",
    "      <li>ylabel: x축 계급</li>\n",
    "      <li>show: 그래프 시각화</li>\n",
    "</ol>"
   ]
  },
  {
   "cell_type": "markdown",
   "id": "638db328",
   "metadata": {},
   "source": [
    "#### y축 기준 막대그래프\n",
    "다양한 예시를 위하여 Series 사용"
   ]
  },
  {
   "cell_type": "code",
   "execution_count": 43,
   "id": "1c3d822e",
   "metadata": {},
   "outputs": [
    {
     "data": {
      "image/png": "[encoded data removed]",
      "text/plain": [
       "<Figure size 432x288 with 1 Axes>"
      ]
     },
     "metadata": {
      "needs_background": "light"
     },
     "output_type": "display_data"
    }
   ],
   "source": [
    "sample = pd.Series([3, 2, 10], index=[\"바나나\", \"사과\", \"오렌지\"], name = \"과일 개수\")\n",
    "\n",
    "sample.values\n",
    "plt.barh([0,1,2], sample.values)\n",
    "plt.title(sample.name)\n",
    "plt.xticks(sorted(sample.values))\n",
    "plt.yticks([0,1,2], sample.index)\n",
    "plt.ylabel('과일')\n",
    "plt.xlabel('개수')\n",
    "plt.show()"
   ]
  },
  {
   "cell_type": "markdown",
   "id": "eb9a5d36",
   "metadata": {},
   "source": [
    "x축과 y축의 전환 기준은 bar가 아닌 barh와 ticks를 통하여 하면 된다.  \n",
    "좀 더 자세한 색상 등은 참고 [막대 그래프 참조](https://wikidocs.net/92095)을 이용한다."
   ]
  },
  {
   "cell_type": "markdown",
   "id": "fd5251cd",
   "metadata": {},
   "source": [
    "## 히스토그램\n",
    "\n",
    "히스토그램은 데이터가 단일변수 자료이며, 계급이 숫자와 같이 계산이 가능한 연속형 변수를 범주화 시켜 자료를 시각화한 그래프이다.  \n",
    "양적 변수는 일반적인 연속형 변수와 이산형 변수가 있다.\n",
    "\n",
    "히스토그램에서 제일 중요한 것은 계급값을 나누는 방법이다.\n",
    "손으로 계급값을 구할 경우에는\n",
    "\n",
    "$$ (max - min) \\div 계급 수 = \\lceil x \\rceil$$\n",
    "\n",
    "최소+x 이상 ~ 최대+x 미만으로 범위를 설정한다.  \n",
    "\n",
    "올림을 하는 이유는 x가 정확히 딱 떨어졌을 경우에 맨 마지막 범위에서 데이터 최대값과 최대 x값이 같아서 데이터의 최대값이 도수에 포함되지 않는 경우가 발생하기 때문이다.\n",
    "\n",
    "*예시"
   ]
  },
  {
   "cell_type": "code",
   "execution_count": 136,
   "id": "06c36b86",
   "metadata": {
    "scrolled": true
   },
   "outputs": [
    {
     "name": "stdout",
     "output_type": "stream",
     "text": [
      "<class 'float'>\n",
      "범위1: 156이상 ~ 158.5미만\n",
      "범위2: 158.5이상 ~ 161.0미만\n",
      "범위3: 161.0이상 ~ 163.5미만\n",
      "범위4: 163.5이상 ~ 166.0미만\n",
      "범위5: 166.0이상 ~ 168.5미만\n",
      "범위6: 168.5이상 ~ 171.0미만\n",
      "범위7: 171.0이상 ~ 173.5미만\n",
      "범위8: 173.5이상 ~ 176.0미만\n",
      "범위9: 176.0이상 ~ 178.5미만\n",
      "범위10: 178.5이상 ~ 181.0미만\n"
     ]
    },
    {
     "data": {
      "text/plain": [
       "[156, 158.5, 161.0, 163.5, 166.0, 168.5, 171.0, 173.5, 176.0, 178.5, 181.0]"
      ]
     },
     "execution_count": 136,
     "metadata": {},
     "output_type": "execute_result"
    }
   ],
   "source": [
    "#데이터\n",
    "heights = [168, 181, 164, 156, 178, 174, 161,\n",
    "           177, 166, 168, 159, 171, 180, 159,\n",
    "           167, 181, 169, 173, 169, 174, 170,\n",
    "           165]\n",
    "\n",
    "#범주 만들기 10\n",
    "frequency_range = (max(heights) - min(heights))/10\n",
    "print(type(frequency_range))\n",
    "\n",
    "x = min(heights)\n",
    "count = 1\n",
    "range_list = []\n",
    "range_list.append(x)           #맨 처음 시작 값을 넣어준다.\n",
    "for i in range(10):\n",
    "    print(\"범위{0}: {1}이상 ~ {2}미만\".format(count, x, x + frequency_range))\n",
    "    x = x + frequency_range\n",
    "    range_list.append(x)       #경계값을 계속 더한다.\n",
    "    count = count + 1\n",
    "range_list"
   ]
  },
  {
   "cell_type": "code",
   "execution_count": 137,
   "id": "ba631672",
   "metadata": {},
   "outputs": [
    {
     "data": {
      "image/png": "[encoded data removed]",
      "text/plain": [
       "<Figure size 432x288 with 1 Axes>"
      ]
     },
     "metadata": {
      "needs_background": "light"
     },
     "output_type": "display_data"
    }
   ],
   "source": [
    "#직접 만든 범위로 그래프 그리기\n",
    "plt.hist(heights, bins= range_list, label='heigths')\n",
    "plt.axvline(181, color = 'red', alpha = 1) #마지막을 보기 위하여 빨간색 축으로 표시 \n",
    "plt.grid(True)\n",
    "plt.show()"
   ]
  },
  {
   "cell_type": "code",
   "execution_count": 138,
   "id": "53566284",
   "metadata": {},
   "outputs": [
    {
     "data": {
      "image/png": "[encoded data removed]",
      "text/plain": [
       "<Figure size 432x288 with 1 Axes>"
      ]
     },
     "metadata": {
      "needs_background": "light"
     },
     "output_type": "display_data"
    },
    {
     "name": "stdout",
     "output_type": "stream",
     "text": [
      "[1. 2. 1. 2. 4. 3. 2. 2. 2. 3.]\n",
      "[156.  158.5 161.  163.5 166.  168.5 171.  173.5 176.  178.5 181. ]\n",
      "<BarContainer object of 10 artists>\n"
     ]
    }
   ],
   "source": [
    "#bins를 통하여 10개로 나누기\n",
    "\n",
    "n, bins, patches = plt.hist(heights, bins=10, label='heigths')\n",
    "plt.axvline(181, color = 'red', alpha = 1)\n",
    "plt.grid(True)\n",
    "plt.show()\n",
    "\n",
    "print(n)\n",
    "print(bins)\n",
    "print(patches)"
   ]
  },
  {
   "cell_type": "markdown",
   "id": "3edb9852",
   "metadata": {},
   "source": [
    "<ul>\n",
    "    <li>n: 각 구간에 있는 빈도 수</li>\n",
    "    <li>bins: 구간의 경계값 리스트</li>\n",
    "    <li>patches: 각 구간을 그리는 matplotlib patch 객체 리스트</li>\n",
    "</ul>\n",
    "range_list와 bins의 값이 실제로 같은 것을 확인할 수 있다.  \n",
    "\n",
    "hist에서 좀 더 살펴볼 속성으로는 cumulative와 density가 있다."
   ]
  },
  {
   "cell_type": "code",
   "execution_count": 144,
   "id": "3fef4618",
   "metadata": {},
   "outputs": [
    {
     "data": {
      "image/png": "[encoded data removed]",
      "text/plain": [
       "<Figure size 432x288 with 1 Axes>"
      ]
     },
     "metadata": {
      "needs_background": "light"
     },
     "output_type": "display_data"
    }
   ],
   "source": [
    "#cumulative 속성\n",
    "n, bins, patches = plt.hist(heights, bins=10, label='heigths', cumulative = True)\n",
    "plt.grid(True)\n",
    "plt.show()"
   ]
  },
  {
   "cell_type": "markdown",
   "id": "23f230b8",
   "metadata": {},
   "source": [
    "cumulative를 사용하면 누적 그래프가 된다."
   ]
  },
  {
   "cell_type": "code",
   "execution_count": 140,
   "id": "6cf9e63e",
   "metadata": {},
   "outputs": [
    {
     "data": {
      "image/png": "[encoded data removed]",
      "text/plain": [
       "<Figure size 432x288 with 1 Axes>"
      ]
     },
     "metadata": {
      "needs_background": "light"
     },
     "output_type": "display_data"
    }
   ],
   "source": [
    "heights = [168, 181, 164, 156, 178, 174, 161,\n",
    "           177, 166, 168, 159, 171, 180, 159,\n",
    "           167, 181, 169, 173, 169, 174, 170,\n",
    "           165]\n",
    "\n",
    "plt.hist(heights, bins=10, label='heigths', density=True, alpha=0.2, color='red')\n",
    "plt.show()"
   ]
  },
  {
   "cell_type": "markdown",
   "id": "bc9dd211",
   "metadata": {},
   "source": [
    "누적 밀도 함수를 미분하여 나온 도함수(derivative)를 확률 밀도 함수(probability density function)라고 한다."
   ]
  },
  {
   "cell_type": "markdown",
   "id": "c3e039c1",
   "metadata": {},
   "source": [
    "## 도수다각형\n",
    "\n",
    "히스토그램에서 사각형의 윗 변의 중점을 연결한 그림이다\n",
    "\n",
    "*예시\n",
    "- 히스토그램에서 사용한 데이터를 그대로 사용한다."
   ]
  },
  {
   "cell_type": "markdown",
   "id": "2dda24e7",
   "metadata": {},
   "source": []
  },
  {
   "cell_type": "markdown",
   "id": "2c5c1763",
   "metadata": {},
   "source": []
  },
  {
   "cell_type": "markdown",
   "id": "71e9c98a",
   "metadata": {},
   "source": []
  }
 ],
 "metadata": {
  "kernelspec": {
   "display_name": "Python 3 (ipykernel)",
   "language": "python",
   "name": "python3"
  },
  "language_info": {
   "codemirror_mode": {
    "name": "ipython",
    "version": 3
   },
   "file_extension": ".py",
   "mimetype": "text/x-python",
   "name": "python",
   "nbconvert_exporter": "python",
   "pygments_lexer": "ipython3",
   "version": "3.9.7"
  }
 },
 "nbformat": 4,
 "nbformat_minor": 5
}
