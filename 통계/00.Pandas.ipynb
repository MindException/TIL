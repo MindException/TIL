{
 "cells": [
  {
   "cell_type": "markdown",
   "id": "710bfb6a",
   "metadata": {},
   "source": [
    "# 자주 사용하는 판다스 정리\n",
    "\n",
    "[판다스 기본 설명](https://github.com/MindException/MS_AI_School_WorkSpace/blob/main/python/library/Pandas.ipynb)에 좀 더 추가하여 정리한다."
   ]
  },
  {
   "cell_type": "code",
   "execution_count": 6,
   "id": "50ed4921",
   "metadata": {},
   "outputs": [],
   "source": [
    "import pandas as pd\n",
    "import numpy as np"
   ]
  },
  {
   "cell_type": "markdown",
   "id": "9c5f32a2",
   "metadata": {},
   "source": [
    "### 시리즈 기본 생성"
   ]
  },
  {
   "cell_type": "code",
   "execution_count": 2,
   "id": "f1bb35ce",
   "metadata": {},
   "outputs": [
    {
     "data": {
      "text/plain": [
       "지역1\n",
       "서울     1116\n",
       "부산    12259\n",
       "인천    65119\n",
       "대구    16699\n",
       "Name: 총 생산량1, dtype: int64"
      ]
     },
     "execution_count": 2,
     "metadata": {},
     "output_type": "execute_result"
    }
   ],
   "source": [
    "sample = pd.Series([1116, 12259, 65119, 16699],\n",
    "index=[\"서울\", \"부산\", \"인천\", \"대구\"])\n",
    "sample.name = \"총 생산량1\"\n",
    "sample.index.name = \"지역1\"\n",
    "sample"
   ]
  },
  {
   "cell_type": "markdown",
   "id": "ef0b8c5c",
   "metadata": {},
   "source": [
    ".name은 시리즈가 담고 있는 데이터의 대표이름이 되며, 데이터 프레임으로 변환 시 column의 이름이 된다.  \n",
    ".index.name은 인덱스들을 대표하는 이름이 된다."
   ]
  },
  {
   "cell_type": "markdown",
   "id": "314edcc8",
   "metadata": {},
   "source": [
    "### 불린 인덱싱(Boolean Indexing)\n",
    "\n",
    "R에서 편리하게 인덱스에 조건을 주어서 조건에 맞는 자료구조를 출력하는 기능이다.  "
   ]
  },
  {
   "cell_type": "code",
   "execution_count": 3,
   "id": "0cb8c005",
   "metadata": {},
   "outputs": [
    {
     "data": {
      "text/plain": [
       "지역1\n",
       "서울    False\n",
       "부산     True\n",
       "인천     True\n",
       "대구     True\n",
       "Name: 총 생산량1, dtype: bool"
      ]
     },
     "execution_count": 3,
     "metadata": {},
     "output_type": "execute_result"
    }
   ],
   "source": [
    "sample > 10000"
   ]
  },
  {
   "cell_type": "code",
   "execution_count": 5,
   "id": "4faf2ea4",
   "metadata": {},
   "outputs": [
    {
     "data": {
      "text/plain": [
       "pandas.core.series.Series"
      ]
     },
     "execution_count": 5,
     "metadata": {},
     "output_type": "execute_result"
    }
   ],
   "source": [
    "type(sample > 10000)"
   ]
  },
  {
   "cell_type": "markdown",
   "id": "b14548f2",
   "metadata": {},
   "source": [
    "판다스에서는 조건 연산자를 넣어서 출력하면 시리즈로 반환하는 기능이 있다.  \n",
    "넘파이에서는 numpy.ndarray로 반환한다."
   ]
  },
  {
   "cell_type": "code",
   "execution_count": 4,
   "id": "6678e783",
   "metadata": {},
   "outputs": [
    {
     "data": {
      "text/plain": [
       "지역1\n",
       "부산    12259\n",
       "인천    65119\n",
       "대구    16699\n",
       "Name: 총 생산량1, dtype: int64"
      ]
     },
     "execution_count": 4,
     "metadata": {},
     "output_type": "execute_result"
    }
   ],
   "source": [
    "sample[sample > 10000]"
   ]
  },
  {
   "cell_type": "markdown",
   "id": "1087417e",
   "metadata": {},
   "source": [
    "불린 시리즈를 조건으로 인덱싱하여 조건에 맞는 시리즈를 반환한다."
   ]
  },
  {
   "cell_type": "markdown",
   "id": "4f88e265",
   "metadata": {},
   "source": [
    "### 시리즈 to 데이터프레임\n",
    "\n",
    "시리즈를 데이터프레임으로 변환한다.  \n",
    "먼저 .name과 .index.name이 없는 경우부터 살펴본다."
   ]
  },
  {
   "cell_type": "code",
   "execution_count": 16,
   "id": "c65b678f",
   "metadata": {},
   "outputs": [
    {
     "data": {
      "text/html": [
       "<div>\n",
       "<style scoped>\n",
       "    .dataframe tbody tr th:only-of-type {\n",
       "        vertical-align: middle;\n",
       "    }\n",
       "\n",
       "    .dataframe tbody tr th {\n",
       "        vertical-align: top;\n",
       "    }\n",
       "\n",
       "    .dataframe thead th {\n",
       "        text-align: right;\n",
       "    }\n",
       "</style>\n",
       "<table border=\"1\" class=\"dataframe\">\n",
       "  <thead>\n",
       "    <tr style=\"text-align: right;\">\n",
       "      <th></th>\n",
       "      <th>s</th>\n",
       "    </tr>\n",
       "  </thead>\n",
       "  <tbody>\n",
       "    <tr>\n",
       "      <th>서울</th>\n",
       "      <td>1116</td>\n",
       "    </tr>\n",
       "    <tr>\n",
       "      <th>부산</th>\n",
       "      <td>12259</td>\n",
       "    </tr>\n",
       "    <tr>\n",
       "      <th>인천</th>\n",
       "      <td>65119</td>\n",
       "    </tr>\n",
       "    <tr>\n",
       "      <th>대구</th>\n",
       "      <td>16699</td>\n",
       "    </tr>\n",
       "  </tbody>\n",
       "</table>\n",
       "</div>"
      ],
      "text/plain": [
       "        s\n",
       "서울   1116\n",
       "부산  12259\n",
       "인천  65119\n",
       "대구  16699"
      ]
     },
     "execution_count": 16,
     "metadata": {},
     "output_type": "execute_result"
    }
   ],
   "source": [
    "s = pd.Series([1116, 12259, 65119, 16699],\n",
    "index=[\"서울\", \"부산\", \"인천\", \"대구\"])\n",
    "s\n",
    "\n",
    "sdf = pd.DataFrame(s, columns = [\"s\",])\n",
    "sdf"
   ]
  },
  {
   "cell_type": "markdown",
   "id": "571eb7a5",
   "metadata": {},
   "source": [
    ".name과 .index.name이 있는 경우에 columns를 설정한다면 아래와 같이 출력되는 것을 볼 수 있다."
   ]
  },
  {
   "cell_type": "code",
   "execution_count": 20,
   "id": "b3a769bd",
   "metadata": {},
   "outputs": [
    {
     "data": {
      "text/html": [
       "<div>\n",
       "<style scoped>\n",
       "    .dataframe tbody tr th:only-of-type {\n",
       "        vertical-align: middle;\n",
       "    }\n",
       "\n",
       "    .dataframe tbody tr th {\n",
       "        vertical-align: top;\n",
       "    }\n",
       "\n",
       "    .dataframe thead th {\n",
       "        text-align: right;\n",
       "    }\n",
       "</style>\n",
       "<table border=\"1\" class=\"dataframe\">\n",
       "  <thead>\n",
       "    <tr style=\"text-align: right;\">\n",
       "      <th></th>\n",
       "      <th>sample</th>\n",
       "    </tr>\n",
       "  </thead>\n",
       "  <tbody>\n",
       "  </tbody>\n",
       "</table>\n",
       "</div>"
      ],
      "text/plain": [
       "Empty DataFrame\n",
       "Columns: [sample]\n",
       "Index: []"
      ]
     },
     "execution_count": 20,
     "metadata": {},
     "output_type": "execute_result"
    }
   ],
   "source": [
    "sample_df = pd.DataFrame(sample, columns = [\"sample\"])\n",
    "sample_df"
   ]
  },
  {
   "cell_type": "code",
   "execution_count": 21,
   "id": "6652cb60",
   "metadata": {},
   "outputs": [
    {
     "data": {
      "text/html": [
       "<div>\n",
       "<style scoped>\n",
       "    .dataframe tbody tr th:only-of-type {\n",
       "        vertical-align: middle;\n",
       "    }\n",
       "\n",
       "    .dataframe tbody tr th {\n",
       "        vertical-align: top;\n",
       "    }\n",
       "\n",
       "    .dataframe thead th {\n",
       "        text-align: right;\n",
       "    }\n",
       "</style>\n",
       "<table border=\"1\" class=\"dataframe\">\n",
       "  <thead>\n",
       "    <tr style=\"text-align: right;\">\n",
       "      <th></th>\n",
       "      <th>총 생산량1</th>\n",
       "    </tr>\n",
       "    <tr>\n",
       "      <th>지역1</th>\n",
       "      <th></th>\n",
       "    </tr>\n",
       "  </thead>\n",
       "  <tbody>\n",
       "    <tr>\n",
       "      <th>서울</th>\n",
       "      <td>1116</td>\n",
       "    </tr>\n",
       "    <tr>\n",
       "      <th>부산</th>\n",
       "      <td>12259</td>\n",
       "    </tr>\n",
       "    <tr>\n",
       "      <th>인천</th>\n",
       "      <td>65119</td>\n",
       "    </tr>\n",
       "    <tr>\n",
       "      <th>대구</th>\n",
       "      <td>16699</td>\n",
       "    </tr>\n",
       "  </tbody>\n",
       "</table>\n",
       "</div>"
      ],
      "text/plain": [
       "     총 생산량1\n",
       "지역1        \n",
       "서울     1116\n",
       "부산    12259\n",
       "인천    65119\n",
       "대구    16699"
      ]
     },
     "execution_count": 21,
     "metadata": {},
     "output_type": "execute_result"
    }
   ],
   "source": [
    "sample_df = pd.DataFrame(sample)\n",
    "sample_df"
   ]
  },
  {
   "cell_type": "markdown",
   "id": "8a863ea4",
   "metadata": {},
   "source": [
    "### 데이터 프레임 합치기(여기부터 다시하기)\n",
    "\n",
    "데이터 프레임에서 동일한 인덱스의 값이 없는데 합 칠 경우 Nan으로 표현한다. "
   ]
  },
  {
   "cell_type": "code",
   "execution_count": 22,
   "id": "1ec4aaf6",
   "metadata": {},
   "outputs": [
    {
     "data": {
      "text/html": [
       "<div>\n",
       "<style scoped>\n",
       "    .dataframe tbody tr th:only-of-type {\n",
       "        vertical-align: middle;\n",
       "    }\n",
       "\n",
       "    .dataframe tbody tr th {\n",
       "        vertical-align: top;\n",
       "    }\n",
       "\n",
       "    .dataframe thead th {\n",
       "        text-align: right;\n",
       "    }\n",
       "</style>\n",
       "<table border=\"1\" class=\"dataframe\">\n",
       "  <thead>\n",
       "    <tr style=\"text-align: right;\">\n",
       "      <th></th>\n",
       "      <th>서울</th>\n",
       "      <th>부산</th>\n",
       "      <th>인천</th>\n",
       "      <th>대구</th>\n",
       "    </tr>\n",
       "  </thead>\n",
       "  <tbody>\n",
       "    <tr>\n",
       "      <th>Unnamed 0</th>\n",
       "      <td>1116</td>\n",
       "      <td>12259</td>\n",
       "      <td>65119</td>\n",
       "      <td>16699</td>\n",
       "    </tr>\n",
       "    <tr>\n",
       "      <th>총 생산량1</th>\n",
       "      <td>1116</td>\n",
       "      <td>12259</td>\n",
       "      <td>65119</td>\n",
       "      <td>16699</td>\n",
       "    </tr>\n",
       "  </tbody>\n",
       "</table>\n",
       "</div>"
      ],
      "text/plain": [
       "             서울     부산     인천     대구\n",
       "Unnamed 0  1116  12259  65119  16699\n",
       "총 생산량1     1116  12259  65119  16699"
      ]
     },
     "execution_count": 22,
     "metadata": {},
     "output_type": "execute_result"
    }
   ],
   "source": [
    "te = pd.DataFrame([s, sample])\n",
    "te"
   ]
  },
  {
   "cell_type": "code",
   "execution_count": null,
   "id": "7df9d6f9",
   "metadata": {},
   "outputs": [],
   "source": []
  }
 ],
 "metadata": {
  "kernelspec": {
   "display_name": "Python 3 (ipykernel)",
   "language": "python",
   "name": "python3"
  },
  "language_info": {
   "codemirror_mode": {
    "name": "ipython",
    "version": 3
   },
   "file_extension": ".py",
   "mimetype": "text/x-python",
   "name": "python",
   "nbconvert_exporter": "python",
   "pygments_lexer": "ipython3",
   "version": "3.9.7"
  }
 },
 "nbformat": 4,
 "nbformat_minor": 5
}
