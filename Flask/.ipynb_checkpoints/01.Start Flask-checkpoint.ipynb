{
 "cells": [
  {
   "cell_type": "markdown",
   "id": "15c7a6a8",
   "metadata": {},
   "source": [
    "# Flask 설치"
   ]
  },
  {
   "cell_type": "code",
   "execution_count": 1,
   "id": "b18095fd",
   "metadata": {},
   "outputs": [
    {
     "name": "stdout",
     "output_type": "stream",
     "text": [
      "Collecting flask\n",
      "  Downloading Flask-2.2.2-py3-none-any.whl (101 kB)\n",
      "     -------------------------------------- 101.5/101.5 kB 5.7 MB/s eta 0:00:00\n",
      "Collecting itsdangerous>=2.0\n",
      "  Downloading itsdangerous-2.1.2-py3-none-any.whl (15 kB)\n",
      "Collecting click>=8.0\n",
      "  Downloading click-8.1.3-py3-none-any.whl (96 kB)\n",
      "     ---------------------------------------- 96.6/96.6 kB 5.8 MB/s eta 0:00:00\n",
      "Requirement already satisfied: Werkzeug>=2.2.2 in i:\\anaconda3\\envs\\yolov5\\lib\\site-packages (from flask) (2.2.2)\n",
      "Requirement already satisfied: importlib-metadata>=3.6.0 in i:\\anaconda3\\envs\\yolov5\\lib\\site-packages (from flask) (6.0.0)\n",
      "Requirement already satisfied: Jinja2>=3.0 in i:\\anaconda3\\envs\\yolov5\\lib\\site-packages (from flask) (3.1.2)\n",
      "Requirement already satisfied: colorama in i:\\anaconda3\\envs\\yolov5\\lib\\site-packages (from click>=8.0->flask) (0.4.6)\n",
      "Requirement already satisfied: zipp>=0.5 in i:\\anaconda3\\envs\\yolov5\\lib\\site-packages (from importlib-metadata>=3.6.0->flask) (3.11.0)\n",
      "Requirement already satisfied: MarkupSafe>=2.0 in i:\\anaconda3\\envs\\yolov5\\lib\\site-packages (from Jinja2>=3.0->flask) (2.1.2)\n",
      "Installing collected packages: itsdangerous, click, flask\n",
      "Successfully installed click-8.1.3 flask-2.2.2 itsdangerous-2.1.2\n"
     ]
    }
   ],
   "source": [
    "# !pip install flask"
   ]
  },
  {
   "cell_type": "code",
   "execution_count": 2,
   "id": "6364b72c",
   "metadata": {},
   "outputs": [],
   "source": [
    "from flask import Flask"
   ]
  },
  {
   "cell_type": "code",
   "execution_count": 3,
   "id": "767c618f",
   "metadata": {},
   "outputs": [
    {
     "data": {
      "text/plain": [
       "<Flask '__main__'>"
      ]
     },
     "execution_count": 3,
     "metadata": {},
     "output_type": "execute_result"
    }
   ],
   "source": [
    "app = Flask(__name__)\n",
    "app"
   ]
  },
  {
   "cell_type": "markdown",
   "id": "491222f5",
   "metadata": {},
   "source": [
    "Flask 객체 안에 이름을 저장해주는 것으로 인스터스 가능하다.  \n",
    "주로 안에 이름은 __ main __ 을 사용하는데 다른 이름도 가능하나 특정 기능에서 동작 안하는 경우가 있다."
   ]
  },
  {
   "cell_type": "markdown",
   "id": "1c30a3ab",
   "metadata": {},
   "source": [
    "## 기본 코드"
   ]
  },
  {
   "cell_type": "code",
   "execution_count": null,
   "id": "181a2a3f",
   "metadata": {},
   "outputs": [],
   "source": [
    "from flask import Flask\n",
    "\n",
    "app = Flask(__name__)\n",
    "@app.route(\"/hello\")\n",
    "def test():                           \n",
    "    return \"Hello Flask!~!@\"\n",
    "\n",
    "@app.route(\"\\\\\")\n",
    "def basic:\n",
    "    return \"hello~?\"\n",
    "\n",
    "if __name__ == \"__main__\":              \n",
    "    app.run(host=\"127.0.0.1\", port=\"8123\")"
   ]
  },
  {
   "cell_type": "code",
   "execution_count": null,
   "id": "d3befd54",
   "metadata": {},
   "outputs": [],
   "source": []
  }
 ],
 "metadata": {
  "kernelspec": {
   "display_name": "Python 3 (ipykernel)",
   "language": "python",
   "name": "python3"
  },
  "language_info": {
   "codemirror_mode": {
    "name": "ipython",
    "version": 3
   },
   "file_extension": ".py",
   "mimetype": "text/x-python",
   "name": "python",
   "nbconvert_exporter": "python",
   "pygments_lexer": "ipython3",
   "version": "3.8.16"
  }
 },
 "nbformat": 4,
 "nbformat_minor": 5
}
