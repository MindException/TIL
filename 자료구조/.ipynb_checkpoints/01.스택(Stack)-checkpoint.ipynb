{
 "cells": [
  {
   "cell_type": "markdown",
   "id": "bdea1096",
   "metadata": {},
   "source": [
    "# Stack\n",
    "\n",
    "Stack은 LIFO(Last-in-Frist-out)으로 나중에 삽입된 데이터가 제일 먼저 출력되는 형태의 자료구조이다.  \n",
    "사용되는 자료구조의 기능은 아래와 같다\n",
    "1. __Push:__ 데이터를 맨 마지막에 삽입한다. \n",
    "2. __Pop:__ 맨 마지막에 쌓인 데이터를 반환하고 스택에서 삭제한다.\n",
    "3. __Peek:__ 맨 마지막에 쌓인 데이터를 반환한다.  \n",
    "\n",
    "![스택 이미지](https://upload.wikimedia.org/wikipedia/commons/thumb/2/29/Data_stack.svg/300px-Data_stack.svg.png)"
   ]
  },
  {
   "cell_type": "markdown",
   "id": "1ca1bce8",
   "metadata": {},
   "source": [
    "스택의 실사용은 홈페이지의 뒤로 가기와 같은 경로 흔적을 남기거나 컴퓨터의 연산 방식에 사용되어진다.  \n",
    "학부생 2학년 시절 자료구조 교수님께서는 스택을 설명하실 때 후위 연산(postfix)에 대하여 중요하게 다루셔서 잠깐 내용을 남길까 한다."
   ]
  },
  {
   "cell_type": "code",
   "execution_count": null,
   "id": "bec080bd",
   "metadata": {},
   "outputs": [],
   "source": []
  },
  {
   "cell_type": "markdown",
   "id": "829e96f5",
   "metadata": {},
   "source": [
    "# 실습\n",
    "\n",
    "블로그에 많이 있는 append와 같은 파이썬 기능이 아닌 C,Java처럼 고전적으로 작성하여 보려고 한다."
   ]
  },
  {
   "cell_type": "code",
   "execution_count": 125,
   "id": "ecf382c0",
   "metadata": {},
   "outputs": [
    {
     "name": "stdout",
     "output_type": "stream",
     "text": [
      "[0, 1, 2, 3, 4, 5, 6, 7, 8, 9]\n",
      "[0, 1, 2, 3, 4, 5, 6, 7, 8, 9, 0, 1, 2, 3, 4, None, None, None, None, None]\n",
      "4\n",
      "15\n",
      "4\n",
      "14\n",
      "3\n",
      "13\n"
     ]
    }
   ],
   "source": [
    "class MyStack:\n",
    "    \n",
    "    #10개의 공간 생성\n",
    "    def __init__(self, size = 10 ,count = 0, stack = [None for i in range(10)]):\n",
    "        self.size = size\n",
    "        self.count = count\n",
    "        self.stack = stack\n",
    "\n",
    "    def push(self, element):\n",
    "        \n",
    "        if self.size < self.count + 1:\n",
    "            \n",
    "            #스택 사이즈 변경\n",
    "            self.size = self.size * 2\n",
    "            append_stack = [None for i in range(self.size)]    #사이즈를 2배 더 크게 생성\n",
    "            append_stack[:self.count] = self.stack[:self.count]\n",
    "            self.stack = append_stack                    # 새 스택으로 주소 변경\n",
    "            \n",
    "            #요소 추가\n",
    "            self.stack[self.count] = element\n",
    "            self.count += 1\n",
    "            \n",
    "        else:\n",
    "            \n",
    "            #요소 추가\n",
    "            self.stack[self.count] = element\n",
    "            self.count += 1\n",
    "            \n",
    "    \n",
    "    def pop(self):\n",
    "        \n",
    "        if self.count == 0:\n",
    "            print(\"Stack is Empty\")\n",
    "        else:\n",
    "            element = self.stack[self.count-1]\n",
    "            self.stack[self.count - 1] = None\n",
    "            self.count = self.count - 1\n",
    "            return element\n",
    "    \n",
    "    def peek(self):\n",
    "        \n",
    "        if self.count == 0:\n",
    "            print(\"Stack is Empty\")\n",
    "        else:\n",
    "            element = self.stack[self.count-1]\n",
    "            return element\n",
    "        \n",
    "    def __len__(self):\n",
    "        return self.count\n",
    "\n",
    "# 테스트 성공\n",
    "# 스택 생성 및 15개 push 및 사이즈 재조정 확인\n",
    "a = MyStack()\n",
    "for i in range(10):\n",
    "    a.push(i)\n",
    "print(a.stack)\n",
    "for i in range(5):\n",
    "    a.push(i)\n",
    "print(a.stack)\n",
    "\n",
    "# peek 확인\n",
    "e1 = a.peek()\n",
    "print(e1)\n",
    "print(len(a))\n",
    "\n",
    "# pop을 통한 \n",
    "e2 = a.pop()\n",
    "print(e2)\n",
    "print(len(a))\n",
    "e3 = a.pop()\n",
    "print(e3)\n",
    "print(len(a))"
   ]
  }
 ],
 "metadata": {
  "kernelspec": {
   "display_name": "Python 3 (ipykernel)",
   "language": "python",
   "name": "python3"
  },
  "language_info": {
   "codemirror_mode": {
    "name": "ipython",
    "version": 3
   },
   "file_extension": ".py",
   "mimetype": "text/x-python",
   "name": "python",
   "nbconvert_exporter": "python",
   "pygments_lexer": "ipython3",
   "version": "3.9.7"
  }
 },
 "nbformat": 4,
 "nbformat_minor": 5
}
