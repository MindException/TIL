{
 "cells": [
  {
   "cell_type": "markdown",
   "id": "841276bb",
   "metadata": {},
   "source": [
    "## 역행렬\n",
    "\n",
    "정방행렬 A에 대해 다음 성질을 만족하는 행렬 B를 A의 __역행렬(inverse matrix)__ 이라 한다.  \n",
    "\n",
    "$$ AB = BA = I_{n}$$  \n",
    "\n",
    "A의 역행렬은 $A^-1$로 나타내고, $A^-1$는 'A의 역행렬' 또는 'A inverse'라고 읽는다.  \n",
    "$I_{n}$은 $n \\times n$ 단위행렬이다. 행렬과 역행렬의 곱은 단위행렬이 되어야 하므로, 다음 성질을 만족하여야 한다. \n",
    "  \n",
    "$$ AA^{-1} = A^{-1}A = I_{n} $$\n",
    "  "
   ]
  },
  {
   "cell_type": "code",
   "execution_count": null,
   "id": "a9e4dd74",
   "metadata": {},
   "outputs": [],
   "source": []
  },
  {
   "cell_type": "code",
   "execution_count": null,
   "id": "9287ddee",
   "metadata": {},
   "outputs": [],
   "source": []
  },
  {
   "cell_type": "code",
   "execution_count": null,
   "id": "42b2f764",
   "metadata": {},
   "outputs": [],
   "source": []
  },
  {
   "cell_type": "code",
   "execution_count": null,
   "id": "e09bcb94",
   "metadata": {},
   "outputs": [],
   "source": []
  },
  {
   "cell_type": "code",
   "execution_count": null,
   "id": "d952f89c",
   "metadata": {},
   "outputs": [],
   "source": []
  },
  {
   "cell_type": "code",
   "execution_count": null,
   "id": "8812a252",
   "metadata": {},
   "outputs": [],
   "source": []
  },
  {
   "cell_type": "code",
   "execution_count": null,
   "id": "b7192dd8",
   "metadata": {},
   "outputs": [],
   "source": []
  }
 ],
 "metadata": {
  "kernelspec": {
   "display_name": "Python 3 (ipykernel)",
   "language": "python",
   "name": "python3"
  },
  "language_info": {
   "codemirror_mode": {
    "name": "ipython",
    "version": 3
   },
   "file_extension": ".py",
   "mimetype": "text/x-python",
   "name": "python",
   "nbconvert_exporter": "python",
   "pygments_lexer": "ipython3",
   "version": "3.8.16"
  }
 },
 "nbformat": 4,
 "nbformat_minor": 5
}
