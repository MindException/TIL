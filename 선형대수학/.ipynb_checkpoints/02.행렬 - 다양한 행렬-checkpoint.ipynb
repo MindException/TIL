{
 "cells": [
  {
   "cell_type": "markdown",
   "id": "7738b3ac",
   "metadata": {},
   "source": [
    "# 역행렬\n",
    "\n",
    "정방행렬 A에 대해 다음 성질을 만족하는 행렬 B를 A의 __역행렬(inverse matrix)__ 이라 한다.  \n",
    "\n",
    "$$ AB = BA = I_{n}$$  \n",
    "\n",
    "A의 역행렬은 $A^-1$로 나타내고, $A^-1$는 'A의 역행렬' 또는 'A _inverse_'라고 읽는다.  \n",
    "$I_{n}$은 $n \\times n$ 단위행렬이다. 행렬과 역행렬의 곱은 단위행렬이 되어야 하므로, 다음 성질을 만족하여야 한다. \n",
    "  \n",
    "$$ AA^{-1} = A^{-1}A = I_{n} $$\n",
    "  "
   ]
  },
  {
   "cell_type": "code",
   "execution_count": 1,
   "id": "faf58a0c",
   "metadata": {},
   "outputs": [],
   "source": [
    "import numpy as np"
   ]
  },
  {
   "cell_type": "code",
   "execution_count": 2,
   "id": "dd69ae20",
   "metadata": {},
   "outputs": [
    {
     "data": {
      "text/plain": [
       "array([[ 3., -2.],\n",
       "       [-1.,  1.]])"
      ]
     },
     "execution_count": 2,
     "metadata": {},
     "output_type": "execute_result"
    }
   ],
   "source": [
    "# mt1 = np.array([[2,-3, 5], [1, 7, 4], [0 , 0 ,0]])\n",
    "mt2 = np.array([[1,2],[1,3]])\n",
    "\n",
    "mt3= np.linalg.inv(mt2)  \n",
    "mt3"
   ]
  },
  {
   "cell_type": "markdown",
   "id": "5de04c76",
   "metadata": {},
   "source": [
    "역행렬이 없는 경우에는 __LinAlgError: Singular matrix__ 가 발생한다.  \n",
    "주석을 지우고 tm1을 넣을 경우 확인할 수 있다."
   ]
  },
  {
   "cell_type": "markdown",
   "id": "94ce1ea8",
   "metadata": {},
   "source": [
    "## 가역행렬과 비가역행렬\n",
    "\n",
    "역행렬이 존재할 때 행렬을 __가역__ _invertible_ 혹은 __비특이행렬__ _nonsingular matrix_ 라고 한다.  \n",
    "역행렬이 없는 행렬을 __비가역__ _noninvertible_ 혹은 __특이행렬__ _singular matrix_ 라고 한다.  \n",
    "\n",
    "TMI) 역행렬을 실제로 계산해 보면 존재하는 경우가 훨씬 많이 존재하고 존재하지 않는 경우가 특이한 경우라고 하여 그렇게 부르게 되었다.  "
   ]
  },
  {
   "cell_type": "markdown",
   "id": "a00a5073",
   "metadata": {},
   "source": [
    "## 역행렬의 성질\n",
    "\n",
    "n차 정방행렬 A, B가 가역이고, $\\alpha$는 0이 아닌 스칼라일 때, 다음 성질을 만족한다.  \n",
    "\n",
    "1. $A^{-1}$는 가역이고, $(A^{-1})^{-1} = A$이다.  \n",
    "2. $AB$는 가역이고, $(AB)^{-1} = B^{-1}A^{-1}$이다.   --------  __(제일 중요)__\n",
    "3. $\\alpha A$는 가역이고, $(\\alpha A)^{-1} = \\frac{1}{\\alpha} A^{-1}$이다.  \n",
    "4. $A^k$는 가역이고, $(A^{-1})^k = (A^k)^{-1}$이다.($k$는 0 이상의 정수이다.)\n",
    "\n",
    "\n",
    "2번이 제일 중요하며 2번을 제일 쉽게 유도하는 방법은 단위행렬을 만드는 순서를 생각해보는 것 이다.  \n",
    "\n",
    "$$ AB(AB)^{-1} = I_n $$\n",
    "$$ AB \\times B^{-1}A^{-1} = I_n$$  \n",
    "를 순서대로 해야 단위행렬이 나오는 것을 확인할 수 있다."
   ]
  },
  {
   "cell_type": "markdown",
   "id": "c366e8c6",
   "metadata": {},
   "source": [
    "# 전치행렬\n",
    "\n",
    "행렬의 행과 열을 바꾸어 놓는 행렬을 __전치행렬__ _transpose matrix_이라 하고, $A^T$로 나타낸다."
   ]
  },
  {
   "cell_type": "code",
   "execution_count": 3,
   "id": "d48a0a5a",
   "metadata": {},
   "outputs": [
    {
     "data": {
      "text/plain": [
       "array([[1, 4, 7],\n",
       "       [2, 5, 8],\n",
       "       [3, 6, 9]])"
      ]
     },
     "execution_count": 3,
     "metadata": {},
     "output_type": "execute_result"
    }
   ],
   "source": [
    "tm = np.array([[1,2,3], [4,5,6],[7,8,9]])\n",
    "tm.T"
   ]
  },
  {
   "cell_type": "markdown",
   "id": "296266f8",
   "metadata": {},
   "source": [
    "## 전치행렬의 성질\n",
    "\n",
    "행렬 A, B와 스칼라 $\\alpha$에 대해 다음 성질을 만족한다.  \n",
    "\n",
    "1. $(A^T)^T = A$  \n",
    "2. $(A+B)^T = A^T + B^T$\n",
    "3. $(AB)^T = B^{T}A^{T}$\n",
    "4. $(\\alpha A)^T = \\alpha A^T$  \n",
    "5. $A$가 가역이면, $(A^T)^{-1} = (A^{-1})^T$  \n",
    "\n",
    "여기서 중요하게 보고 식을 유도할 예정인 것은 3번과 5번이다.\n",
    "\n",
    "### 3번 식 유도\n",
    "행렬의 A와 B의 크기를 각각 $(m \\times n)$, $(n \\times p)$라고 가정할 때,  \n",
    "전치를 하면 각각 $(n \\times m)$, $(p \\times n)$이 될 것이다. 하지만 이렇게 하면 열과 행의 개수가 같지 않아서 행렬곱을 하지 못하기 때문에  \n",
    "순서를 바꾸어 주어서 $(p \\times n)$, $(n \\times m)$이 된다면 행렬곱이 가능해지기 때문에 이렇게 식을 유도해볼 수 있다.  \n",
    "\n",
    "### 5번 식 유도\n",
    "A가 가역이므로 $AA^{-1} = I, A^{-1}A = I$ 이며, 3번 성질을 적용하여 풀어볼 수 있다.  \n",
    "\n",
    "\\begin{align}\n",
    "(AA^{-1})^T &= (A^{-1})^{T}A^{T} = I \\\\\n",
    "(A^{-1}A)^T &= A^{T}(A^{-1})^{T} = I \\\\\n",
    "\\end{align}  \n",
    "\n",
    "을 통하여 $(A^{T})^{-1}$에 역할을 $(A^{-1})^{T}$가 하는 것을 볼 수 잇다. 따라서   \n",
    "\n",
    "$$ (A^{T})^{-1} =  (A^{-1})^{T}$$  \n",
    "이다."
   ]
  },
  {
   "cell_type": "markdown",
   "id": "9c8fd15d",
   "metadata": {},
   "source": [
    "# 대칭 행렬과 반대칭 행렬"
   ]
  },
  {
   "cell_type": "markdown",
   "id": "359d5da1",
   "metadata": {},
   "source": [
    "## 대칭행렬(_Symmertic matrix_)\n",
    "\n",
    "정방행렬 $A$가 전치행렬 $A^T$와 같으면 대칭행렬 이라고 한다.  \n",
    "\n",
    "$$ A = A^T $$  \n",
    "\n",
    "* 예시\n",
    "$$\\begin{pmatrix}1&2&3\\\\2&4&5\\\\3&5&6 \\end{pmatrix}$$  \n",
    "<br>\n",
    "* 주대각 성분을 기준으로 대칭되는 위치에 있는 성분이 같은 값이다. 즉, $a_{i,j} = a_{j,i}$ 이다.\n",
    "\n",
    "\n",
    "## 반대칭행렬(_Skew-Symmerti matrix_)\n",
    "\n",
    "정방행렬 $A$가 $A^T = - A$를 만족하면, A를 반대칭 행렬이라고 한다.\n",
    "\n",
    "* 예시\n",
    "$$\\begin{pmatrix}0&1&2\\\\-1&0&3\\\\-2&-3&0 \\end{pmatrix}$$\n",
    "<br>\n",
    "\n",
    "* 주대각 성분을 기준으로 대칭되는 위치에 있는 성분은 절댓값은 같고 부호는 다르다. 즉, $a_{i,j} = - a_{j,i}$ 이다.\n",
    "* 주대각 성분은 전부 0이다."
   ]
  },
  {
   "cell_type": "markdown",
   "id": "198780f3",
   "metadata": {},
   "source": [
    "## 정방행렬과 전치행렬의 합과 차\n",
    "\n",
    "1. 정방행렬 $ A + A^T$는 대칭행렬이고, $ A - A^T $는 반대칭 행렬이다.\n",
    "2. 정방 행렬은 대칭행렬 + 반대칭행렬로 나타낼 수 있다.\n",
    "\n",
    "* 증명\n",
    "\n",
    "$$ A = \\frac{1}{2}A + \\frac{1}{2}A + \\frac{1}{2}A^T - \\frac{1}{2}A^T$$\n",
    "$$ A = \\frac{1}{2}(A + A^T) +  \\frac{1}{2} A - A^T$$\n",
    "<br>\n",
    "따라서 __정방행렬 = 대칭행렬 + 대칭행렬__ 이다."
   ]
  },
  {
   "cell_type": "markdown",
   "id": "aee9cec8",
   "metadata": {},
   "source": [
    "# 대각행렬(_Diagonal matrix_)\n",
    "\n",
    "주대각 성분 외의 성분이 모두 0인 정방행렬을 대각행렬이라 한다.\n",
    "\n",
    "$$A_{m,n} =\n",
    " \\begin{pmatrix}\n",
    "  a_{1,1} & 0 & \\cdots & 0 \\\\\n",
    "  0 & a_{2,2} & \\cdots & 0 \\\\\n",
    "  \\vdots  & \\vdots  & \\ddots & \\vdots  \\\\\n",
    "  0 & 0 & \\cdots & a_{n,n}\n",
    " \\end{pmatrix}$$\n",
    "<br>\n",
    "\n",
    "위와 같은 행렬로 주대각 성분을 좀 더 쉽게 표현하기 위하여 $diag(a_{1,1},\\; a_{2,2},\\; \\cdots,\\; a_{n,n})$ 으로 표기한다."
   ]
  },
  {
   "cell_type": "markdown",
   "id": "9332e749",
   "metadata": {},
   "source": [
    "## 대각행렬과 행렬의 곱\n",
    "\n",
    "대각행렬을 앞에 곱하면 행에 곱해지고, 뒤에 곱하면 열에 곱해지는 특성이 있다.  \n",
    "<br>\n",
    "* 예시 행렬)\n",
    "$$ $$\\begin{pmatrix}1&2&3\\\\2&5&6\\\\1&3&8 \\end{pmatrix}$$ $$\n",
    "\n",
    "* 앞에 곱한 대각행렬 $diag(1,\\; 2,\\; 4)$  \n",
    "$$ $$\\begin{pmatrix}1&2&3\\\\4&10&12\\\\4&12&32 \\end{pmatrix}$$  $$\n",
    "<br>\n",
    "* 뒤에 곱한 대각행렬 $diag(1,\\; 2,\\; 4)$\n",
    "$$ $$\\begin{pmatrix}1&4&12\\\\2&10&24\\\\1&6&32 \\end{pmatrix}$$  $$"
   ]
  },
  {
   "cell_type": "markdown",
   "id": "92e50d25",
   "metadata": {},
   "source": [
    "# 삼각 행렬(_Triangular matrix_)\n",
    "\n",
    "## 상삼각행렬(_Upper Triangular matrix_)\n",
    "주대각 성분 아래쪽의 모든 성분이 0인 정방행렬\n",
    "\n",
    "$$A_{m,n} =\n",
    " \\begin{pmatrix}\n",
    "  a_{1,1} & a_{1,2} & \\cdots & a_{1,n} \\\\\n",
    "  0 & a_{2,2} & \\cdots & a_{2,n} \\\\\n",
    "  \\vdots  & \\vdots  & \\ddots & \\vdots  \\\\\n",
    "  0 & 0 & \\cdots & a_{n,n}\n",
    " \\end{pmatrix}$$\n",
    "<br>\n",
    "* 상삼각행렬과 상삼각행렬의 곱은 상삼각행렬인 특성이 있다.\n",
    "\n",
    "## 하삼각행렬(_Lower Triangular matrix_)\n",
    "주대각 성분 위쪽의 모든 성분이 0인 정방행렬\n",
    "\n",
    "$$A_{m,n} =\n",
    " \\begin{pmatrix}\n",
    "  a_{1,1} & 0 & \\cdots & 0 \\\\\n",
    "  a_{2,1} & a_{2,2} & \\cdots & 0 \\\\\n",
    "  \\vdots  & \\vdots  & \\ddots & \\vdots  \\\\\n",
    "  a_{n,1} & a_{n,2} & \\cdots & a_{n,n}\n",
    " \\end{pmatrix}$$"
   ]
  },
  {
   "cell_type": "markdown",
   "id": "ce35d586",
   "metadata": {},
   "source": [
    "### 이와 관련된 LU 분해는 추후 자세히 다루겠음"
   ]
  }
 ],
 "metadata": {
  "kernelspec": {
   "display_name": "Python 3 (ipykernel)",
   "language": "python",
   "name": "python3"
  },
  "language_info": {
   "codemirror_mode": {
    "name": "ipython",
    "version": 3
   },
   "file_extension": ".py",
   "mimetype": "text/x-python",
   "name": "python",
   "nbconvert_exporter": "python",
   "pygments_lexer": "ipython3",
   "version": "3.8.16"
  }
 },
 "nbformat": 4,
 "nbformat_minor": 5
}
