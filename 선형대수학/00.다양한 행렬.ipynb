{
 "cells": [
  {
   "cell_type": "markdown",
   "id": "1d4e04a8",
   "metadata": {},
   "source": [
    "## Numpy 모듈"
   ]
  },
  {
   "cell_type": "code",
   "execution_count": 1,
   "id": "07406af2",
   "metadata": {},
   "outputs": [],
   "source": [
    "import numpy as np"
   ]
  },
  {
   "cell_type": "markdown",
   "id": "c86b2602",
   "metadata": {},
   "source": [
    "### 전치 행렬(transposed matrix)\n",
    "\n",
    "전치 행렬은 기존 행렬의 행 번호가 열 번호가 되고, 열 번호가 행 번호가 되는 행렬이다.<br><br>\n",
    "$$ X_{ij} \\rightarrow X_{ji} $$\n",
    "<br>\n",
    "$$ \n",
    "U =\n",
    "\\left[\n",
    "\\begin{matrix}\n",
    "    1 & 4 \\\\\n",
    "    2 & 5 \\\\\n",
    "    3 & 6 \\\\\n",
    "\\end{matrix}\n",
    "\\right] $$\n",
    "<br>\n",
    "$$ \n",
    "U^\\top =\n",
    "\\left[\n",
    "\\begin{matrix}\n",
    "    1 & 2 & 3\\\\\n",
    "    4 & 5 & 6\\\\\n",
    "\\end{matrix}\n",
    "\\right] $$"
   ]
  },
  {
   "cell_type": "code",
   "execution_count": 6,
   "id": "dc0d1600",
   "metadata": {
    "scrolled": true
   },
   "outputs": [
    {
     "name": "stdout",
     "output_type": "stream",
     "text": [
      "전치 행렬:\n",
      " [[1 3 6]\n",
      " [5 4 2]]\n"
     ]
    }
   ],
   "source": [
    "matrix1 = np.array([[1,5], [3,4], [6,2]])\n",
    "matrixT = np.transpose(matrix1)\n",
    "\n",
    "print(\"전치 행렬:\\n\",matrixT)"
   ]
  },
  {
   "cell_type": "markdown",
   "id": "b764803e",
   "metadata": {},
   "source": [
    "### 전치 행렬의 성질\n",
    "\n",
    "<ol>\n",
    "    <li> $(A^\\top)^\\top = A$ </li>\n",
    "    <li> $ (A + B)^\\top = A^\\top + B^\\top $ </li>\n",
    "    <li> $ (A - B)^\\top = A^\\top - B^\\top $ </li>\n",
    "    <li> $ (aA)^\\top = aA^\\top $ </li>\n",
    "    <li> $ (AB)^\\top = B^\\top A^\\top $ </li>\n",
    "</ol>\n",
    "<br>"
   ]
  },
  {
   "cell_type": "markdown",
   "id": "415a0348",
   "metadata": {},
   "source": [
    "### 대칭 행렬"
   ]
  },
  {
   "cell_type": "code",
   "execution_count": null,
   "id": "cd1dacc1",
   "metadata": {},
   "outputs": [],
   "source": []
  }
 ],
 "metadata": {
  "kernelspec": {
   "display_name": "Python 3 (ipykernel)",
   "language": "python",
   "name": "python3"
  },
  "language_info": {
   "codemirror_mode": {
    "name": "ipython",
    "version": 3
   },
   "file_extension": ".py",
   "mimetype": "text/x-python",
   "name": "python",
   "nbconvert_exporter": "python",
   "pygments_lexer": "ipython3",
   "version": "3.8.16"
  }
 },
 "nbformat": 4,
 "nbformat_minor": 5
}
