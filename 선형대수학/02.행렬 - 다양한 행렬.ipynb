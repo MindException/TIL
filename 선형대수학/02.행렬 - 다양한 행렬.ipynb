{
 "cells": [
  {
   "cell_type": "markdown",
   "id": "7738b3ac",
   "metadata": {},
   "source": [
    "# 역행렬\n",
    "\n",
    "정방행렬 A에 대해 다음 성질을 만족하는 행렬 B를 A의 __역행렬(inverse matrix)__ 이라 한다.  \n",
    "\n",
    "$$ AB = BA = I_{n}$$  \n",
    "\n",
    "A의 역행렬은 $A^-1$로 나타내고, $A^-1$는 'A의 역행렬' 또는 'A _inverse_'라고 읽는다.  \n",
    "$I_{n}$은 $n \\times n$ 단위행렬이다. 행렬과 역행렬의 곱은 단위행렬이 되어야 하므로, 다음 성질을 만족하여야 한다. \n",
    "  \n",
    "$$ AA^{-1} = A^{-1}A = I_{n} $$\n",
    "  "
   ]
  },
  {
   "cell_type": "code",
   "execution_count": 1,
   "id": "faf58a0c",
   "metadata": {},
   "outputs": [],
   "source": [
    "import numpy as np"
   ]
  },
  {
   "cell_type": "code",
   "execution_count": 10,
   "id": "dd69ae20",
   "metadata": {},
   "outputs": [
    {
     "data": {
      "text/plain": [
       "array([[ 3., -2.],\n",
       "       [-1.,  1.]])"
      ]
     },
     "execution_count": 10,
     "metadata": {},
     "output_type": "execute_result"
    }
   ],
   "source": [
    "# mt1 = np.array([[2,-3, 5], [1, 7, 4], [0 , 0 ,0]])\n",
    "mt2 = np.array([[1,2],[1,3]])\n",
    "\n",
    "mt3= np.linalg.inv(mt2)  \n",
    "mt3"
   ]
  },
  {
   "cell_type": "markdown",
   "id": "5de04c76",
   "metadata": {},
   "source": [
    "역행렬이 없는 경우에는 __LinAlgError: Singular matrix__ 가 발생한다.  \n",
    "주석을 지우고 tm1을 넣을 경우 확인할 수 있다."
   ]
  },
  {
   "cell_type": "markdown",
   "id": "94ce1ea8",
   "metadata": {},
   "source": [
    "## 가역행렬과 비가역행렬\n",
    "\n",
    "역행렬이 존재할 때 행렬을 __가역__ _invertible_ 혹은 __비특이행렬__ _nonsingular matrix_ 라고 한다.  \n",
    "역행렬이 없는 행렬을 __비가역__ _noninvertible_ 혹은 __특이행렬__ _singular matrix_ 라고 한다.  \n",
    "\n",
    "TMI) 역행렬을 실제로 계산해 보면 존재하는 경우가 훨씬 많이 존재하고 존재하지 않는 경우가 특이한 경우라고 하여 그렇게 부르게 되었다.  "
   ]
  },
  {
   "cell_type": "markdown",
   "id": "a00a5073",
   "metadata": {},
   "source": [
    "## 역행렬의 성질\n",
    "\n",
    "n차 정방행렬 A, B가 가역이고, $\\alpha$는 0이 아닌 스칼라일 때, 다음 성질을 만족한다.  \n",
    "\n",
    "1. $A^{-1}$는 가역이고, $(A^{-1})^{-1} = A$이다.  \n",
    "2. $AB$는 가역이고, $(AB)^{-1} = B^{-1}A^{-1}$이다.   --------  __(제일 중요)__\n",
    "3. $\\alpha A$는 가역이고, $(\\alpha A)^{-1} = \\frac{1}{\\alpha} A^{-1}$이다.  \n",
    "4. $A^k$는 가역이고, $(A^{-1})^k = (A^k)^{-1}$이다.($k$는 0 이상의 정수이다.)\n",
    "\n",
    "\n",
    "2번이 제일 중요하며 2번을 제일 쉽게 유도하는 방법은 단위행렬을 만드는 순서를 생각해보는 것 이다.  \n",
    "\n",
    "$$ AB(AB)^{-1} = I_n $$\n",
    "$$ AB \\times B^{-1}A^{-1} = I_n$$  \n",
    "를 순서대로 해야 단위행렬이 나오는 것을 확인할 수 있다."
   ]
  },
  {
   "cell_type": "markdown",
   "id": "c366e8c6",
   "metadata": {},
   "source": [
    "# 전치행렬\n",
    "\n",
    "행렬의 행과 열을 바꾸어 놓는 행렬을 __전치행렬__ _transpose matrix_이라 하고, $A^T$로 나타낸다."
   ]
  },
  {
   "cell_type": "code",
   "execution_count": 12,
   "id": "d48a0a5a",
   "metadata": {},
   "outputs": [
    {
     "data": {
      "text/plain": [
       "array([[1, 4, 7],\n",
       "       [2, 5, 8],\n",
       "       [3, 6, 9]])"
      ]
     },
     "execution_count": 12,
     "metadata": {},
     "output_type": "execute_result"
    }
   ],
   "source": [
    "tm = np.array([[1,2,3], [4,5,6],[7,8,9]])\n",
    "tm.T"
   ]
  },
  {
   "cell_type": "markdown",
   "id": "296266f8",
   "metadata": {},
   "source": [
    "## 전치행렬의 성질\n",
    "\n",
    "행렬 A, B와 스칼라 $\\alpha$에 대해 다음 성질을 만족한다.  \n",
    "\n",
    "1. $(A^T)^T = A$  \n",
    "2. $(A+B)^T = A^T + B^T$\n",
    "3. $(AB)^T = B^{T}A^{T}$\n",
    "4. $(\\alpha A)^T = \\alpha A^T$  \n",
    "5. $A$가 가역이면, $(A^T)^{-1} = (A^{-1})^T$  \n",
    "\n",
    "여기서 중요하게 보고 식을 유도할 예정인 것은 3번과 5번이다.\n",
    "\n",
    "### 3번 식 유도\n",
    "행렬의 A와 B의 크기를 각각 $(m \\times n)$, $(n \\times p)$라고 가정할 때,  \n",
    "전치를 하면 각각 $(n \\times m)$, $(p \\times n)$이 될 것이다. 하지만 이렇게 하면 열과 행의 개수가 같지 않아서 행렬곱을 하지 못하기 때문에  \n",
    "순서를 바꾸어 주어서 $(p \\times n)$, $(n \\times m)$이 된다면 행렬곱이 가능해지기 때문에 이렇게 식을 유도해볼 수 있다.  \n",
    "\n",
    "### 5번 식 유도\n",
    "A가 가역이므로 $AA^{-1} = I, A^{-1}A = I$ 이며, 3번 성질을 적용하여 풀어볼 수 있다.  \n",
    "\n",
    "\\begin{align}\n",
    "(AA^{-1})^T &= (A^{-1})^{T}A^{T} = I \\\\\n",
    "(A^{-1}A)^T &= A^{T}(A^{-1})^{T} = I \\\\\n",
    "\\end{align}  \n",
    "\n",
    "을 통하여 $(A^{T})^{-1}$에 역할을 $(A^{-1})^{T}$가 하는 것을 볼 수 잇다. 따라서   \n",
    "\n",
    "$$ (A^{T})^{-1} =  (A^{-1})^{T}$$  \n",
    "이다."
   ]
  },
  {
   "cell_type": "markdown",
   "id": "9c8fd15d",
   "metadata": {},
   "source": [
    "# 대칭 행렬과 반대칭 행렬"
   ]
  },
  {
   "cell_type": "code",
   "execution_count": null,
   "id": "d34e0a73",
   "metadata": {},
   "outputs": [],
   "source": []
  },
  {
   "cell_type": "code",
   "execution_count": null,
   "id": "98290d6e",
   "metadata": {},
   "outputs": [],
   "source": []
  }
 ],
 "metadata": {
  "kernelspec": {
   "display_name": "Python 3 (ipykernel)",
   "language": "python",
   "name": "python3"
  },
  "language_info": {
   "codemirror_mode": {
    "name": "ipython",
    "version": 3
   },
   "file_extension": ".py",
   "mimetype": "text/x-python",
   "name": "python",
   "nbconvert_exporter": "python",
   "pygments_lexer": "ipython3",
   "version": "3.8.16"
  }
 },
 "nbformat": 4,
 "nbformat_minor": 5
}
