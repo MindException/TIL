{
 "cells": [
  {
   "cell_type": "markdown",
   "id": "c1b31e76",
   "metadata": {},
   "source": [
    "# 행렬(matrix)\n",
    "\n",
    "수나 식을 사각형 모양인 2차원 배열로 나타낸 것을 행렬이라고 한다. 행렬에서 가로줄을 행(raw), 세로줄을 열(column)이라고 한다.  \n",
    "따라서 $mxn 행렬$을 m행 n열의 행렬 또는 m by n matrix라고 한다.\n",
    "\n",
    "$$A_{m,n} =\n",
    " \\begin{pmatrix}\n",
    "  a_{1,1} & a_{1,2} & \\cdots & a_{1,n} \\\\\n",
    "  a_{2,1} & a_{2,2} & \\cdots & a_{2,n} \\\\\n",
    "  \\vdots  & \\vdots  & \\ddots & \\vdots  \\\\\n",
    "  a_{m,1} & a_{m,2} & \\cdots & a_{m,n}\n",
    " \\end{pmatrix}$$\n",
    " \n",
    " 넘파이에서 기본 행렬의 선언은 아래와 같다.  \n",
    " \n",
    " ## 행벡터(row vector) && 열벡터(column vector)"
   ]
  },
  {
   "cell_type": "code",
   "execution_count": 2,
   "id": "9c5aea97",
   "metadata": {},
   "outputs": [
    {
     "name": "stdout",
     "output_type": "stream",
     "text": [
      "행벡터 출력:\n",
      "[[1 2 3]\n",
      " [4 5 6]\n",
      " [7 8 9]]\n",
      "열벡터 출력:\n",
      "[[1 4 7]\n",
      " [2 5 8]\n",
      " [3 6 9]]\n"
     ]
    }
   ],
   "source": [
    "import numpy as np\n",
    "\n",
    "a = np.array([1,2,3])\n",
    "b = np.array([4,5,6])\n",
    "c = np.array([7,8,9])\n",
    "\n",
    "row_vector = np.vstack((a,b,c))\n",
    "column_vector = np.hstack((a.reshape(-1,1),b.reshape(-1,1),c.reshape(-1,1)))\n",
    "print(\"행벡터 출력:\")\n",
    "print(row_vector)\n",
    "print(\"열벡터 출력:\")\n",
    "print(column_vector)"
   ]
  },
  {
   "cell_type": "markdown",
   "id": "73ce6773",
   "metadata": {},
   "source": [
    "열 벡터 같은 경우는 1차원인 벡터를 2차원인 수직으로 만들필요가 있다.  \n",
    "reshape에서 -1은 \"나머지 차원을 자동으로 계산\"하라는 뜻이다."
   ]
  },
  {
   "cell_type": "markdown",
   "id": "6e2cfa67",
   "metadata": {},
   "source": [
    "# 정방행렬(square matrix)\n",
    "\n",
    "정방 행렬은 행과 열의 개수가 같은 정사각형인 행렬을 뜻한다.\n",
    "\n",
    "## 주대각 성분(main diagonal entry)\n",
    "\n",
    "$$A_{m,n} =\n",
    " \\begin{pmatrix}\n",
    "  a_{1,1} & a_{1,2} & \\cdots & a_{1,n} \\\\\n",
    "  a_{2,1} & a_{2,2} & \\cdots & a_{2,n} \\\\\n",
    "  \\vdots  & \\vdots  & \\ddots & \\vdots  \\\\\n",
    "  a_{m,1} & a_{m,2} & \\cdots & a_{m,n}\n",
    " \\end{pmatrix}$$\n",
    " \n",
    " <br>\n",
    " \n",
    " 에서 행과 열의 번호가 같은 $a_{1,1},a_{2,2},a_{3,3}, .... , a_{m,n}$ 을 주대각 성분이라고 한다.  \n",
    " \n",
    " ## 대각 행렬(diagonal matrix)\n",
    " 여기서 주대각 성분을 제외한 모든 성분이 0인 행렬을 __대각행렬__ 이라고 한다.\n",
    " $$diag(a_{1,1}, a_{2,2}, ... , a_{n,n}) =\n",
    " \\begin{pmatrix}\n",
    "  a_{1,1} & 0 & \\cdots & 0 \\\\\n",
    "  0 & a_{2,2} & \\cdots & 0 \\\\\n",
    "  \\vdots  & \\vdots  & \\ddots & \\vdots  \\\\\n",
    "  0 & 0 & \\cdots & a_{m,n}\n",
    " \\end{pmatrix}$$\n",
    " \n",
    " ## 단위 행렬(unit matrix)\n",
    " 여기서 주대각 성분이 __1__ 이고 주대각 성분을 데외한 모든 성분이 0인 행렬을 __단위행렬__ 이라고 한다.\n",
    " $$I_{n} =\n",
    " \\begin{pmatrix}\n",
    "  1 & 0 & \\cdots & 0 \\\\\n",
    "  0 & 1 & \\cdots & 0 \\\\\n",
    "  \\vdots  & \\vdots  & \\ddots & \\vdots  \\\\\n",
    "  0 & 0 & \\cdots & 1\n",
    " \\end{pmatrix}$$\n",
    " <br>\n",
    " 그리고 표현시 $n*n$행렬을 $I_{n}$으로도 표현한다."
   ]
  },
  {
   "cell_type": "markdown",
   "id": "3447b56d",
   "metadata": {},
   "source": [
    "### 대각행렬 만들기\n",
    "\n",
    "주대각 성분이 1,2,3,4인 정방행렬을 만든다."
   ]
  },
  {
   "cell_type": "code",
   "execution_count": 5,
   "id": "b821dfb6",
   "metadata": {},
   "outputs": [
    {
     "name": "stdout",
     "output_type": "stream",
     "text": [
      "[[1 0 0 0]\n",
      " [0 2 0 0]\n",
      " [0 0 3 0]\n",
      " [0 0 0 4]]\n"
     ]
    }
   ],
   "source": [
    "diag_element  = [1,2,3,4]\n",
    "diag_matrix = np.diag(diag_element,k=0)\n",
    "print(diag_matrix)"
   ]
  },
  {
   "cell_type": "markdown",
   "id": "26f9d043",
   "metadata": {},
   "source": [
    "k는 주대각 성분이 어디서부터 시작할지 정하는 역할이다.  \n",
    "\n",
    "### 단위 행렬 만들기\n",
    "$I_{4}$ 인 4*4 단위 행렬을 만든다."
   ]
  },
  {
   "cell_type": "code",
   "execution_count": 6,
   "id": "4eb8ffe5",
   "metadata": {},
   "outputs": [
    {
     "data": {
      "text/plain": [
       "array([[1., 0., 0., 0.],\n",
       "       [0., 1., 0., 0.],\n",
       "       [0., 0., 1., 0.],\n",
       "       [0., 0., 0., 1.]])"
      ]
     },
     "execution_count": 6,
     "metadata": {},
     "output_type": "execute_result"
    }
   ],
   "source": [
    "unit_matrix = np.identity(4)\n",
    "unit_matrix"
   ]
  },
  {
   "cell_type": "markdown",
   "id": "8abb0e46",
   "metadata": {},
   "source": [
    "# 행렬의 연산\n",
    "\n",
    "## 행렬의 덧셈&뺄셈\n",
    "\n",
    "행렬의 덧셈과 뺄셈은 서로 같은 크기의 행렬들만 가능하다."
   ]
  },
  {
   "cell_type": "code",
   "execution_count": 8,
   "id": "31dc59bd",
   "metadata": {},
   "outputs": [
    {
     "name": "stdout",
     "output_type": "stream",
     "text": [
      "덧셈 결과:\n",
      " [[ 6  8]\n",
      " [ 5 10]\n",
      " [ 9  3]]\n",
      "뺄셈 결과:\n",
      " [[-2  6]\n",
      " [ 1 -2]\n",
      " [ 3 -1]]\n"
     ]
    }
   ],
   "source": [
    "matrix1 = np.array([[2,7], [3,4], [6,1]])\n",
    "matrix2 = np.array([[4,1], [2,6], [3,2]])\n",
    "\n",
    "result_add = matrix1+ matrix2\n",
    "result_sub = matrix1 - matrix2\n",
    "\n",
    "print(\"덧셈 결과:\\n\", result_add)\n",
    "print(\"뺄셈 결과:\\n\", result_sub)"
   ]
  },
  {
   "cell_type": "markdown",
   "id": "c7abae8f",
   "metadata": {},
   "source": [
    "## 행렬의 스칼라 곱\n",
    "\n",
    "행렬의 스칼라곱의 기본 성질로는 \n",
    "1. $a(B + C) = aB + aC$\n",
    "2. $(a + b)C = aC + bC$\n",
    "3. $(ab)C = a(bC)$\n",
    "4. $a(BC) = (aB)C = B(aC)$"
   ]
  },
  {
   "cell_type": "code",
   "execution_count": 9,
   "id": "3e7ef19c",
   "metadata": {},
   "outputs": [
    {
     "name": "stdout",
     "output_type": "stream",
     "text": [
      "행렬의 스칼라 곱 결과:\n",
      " [[ 4 14]\n",
      " [ 6  8]\n",
      " [12  2]]\n"
     ]
    }
   ],
   "source": [
    "matrix1 = np.array([[2,7], [3,4], [6,1]])\n",
    "scalar1 = 2\n",
    "\n",
    "result = scalar1 * matrix1\n",
    "\n",
    "print(\"행렬의 스칼라 곱 결과:\\n\", result)"
   ]
  },
  {
   "cell_type": "markdown",
   "id": "14315003",
   "metadata": {},
   "source": [
    "### 행렬 곱\n",
    "\n",
    "행렬의 곱은 2가지 특이사항이 있다.\n",
    "\n",
    "<ol>\n",
    "    <li>2개의 행렬을 곱할 때는 크기를 확인해야 한다. <br>\n",
    "    행렬A의 크기가 $m \\times n $ 이고, 행렬 B의 크기가 $ a \\times b $ 일 경우,\n",
    "        $$ n = a \\,과 \\,같은 \\,경우만 \\,행렬 \\,곱이 \\,가능하다 $$\n",
    "    </li>\n",
    "    <li>행렬의 곱은 곱하는 순서에 따라서 결과가 다르다. <br>\n",
    "       $$ AB \\neq BA $$ \n",
    "    </li>\n",
    "</ol>\n",
    "<br>\n",
    "따라서 행렬의 연산에 대한 기본 성질로는 아래와 같이 정의할 수 있다.<br>\n",
    "1. $A + 0 = 0 + A = A$ (합에 대한 항등원의 영행렬)<br>\n",
    "2. $IA = AI = A$ (곱에 대한 항등원인 단위행렬)<br>\n",
    "3. $A + B = B + A$ (합에 대한 교환법칙)<br>\n",
    "4. $(A + B) + C = A + (B + C)$ (합에 대한 결합법칙)<br>\n",
    "5. $(AB)C = A(BC)$ (곱에 대한 결합법칙)<br>\n",
    "6. $A(B + C) = AB + AC$ (분배법칙)<br>\n",
    "7. $(A + B)C = AC + BC$ (분배법칙)<br>"
   ]
  },
  {
   "cell_type": "code",
   "execution_count": 10,
   "id": "957b8c78",
   "metadata": {},
   "outputs": [
    {
     "name": "stdout",
     "output_type": "stream",
     "text": [
      "행렬 곱 결과:\n",
      " [[ -1   8   3]\n",
      " [  5  -1  11]\n",
      " [ 17 -16  29]]\n"
     ]
    }
   ],
   "source": [
    "#예제 1\n",
    "matrix1 = np.array([[2,7], [3,4], [6,1]])\n",
    "matrix2 = np.array([[3, -3, 5], [-1, 2, -1]])\n",
    "\n",
    "result = np.matmul(matrix1, matrix2)\n",
    "\n",
    "print(\"행렬 곱 결과:\\n\", result)"
   ]
  },
  {
   "cell_type": "code",
   "execution_count": 11,
   "id": "4f735f09",
   "metadata": {},
   "outputs": [
    {
     "name": "stdout",
     "output_type": "stream",
     "text": [
      "행렬 곱 결과1:\n",
      " [[-1  8]\n",
      " [ 5 -1]]\n",
      "행렬 곱 결과2:\n",
      " [[-3  9]\n",
      " [ 4  1]]\n"
     ]
    }
   ],
   "source": [
    "#예제2\n",
    "matrix1 = np.array([[2,7], [3,4]])\n",
    "matrix2 = np.array([[3, -3], [-1, 2]])\n",
    "\n",
    "result1 = np.matmul(matrix1, matrix2)\n",
    "result2 = np.matmul(matrix2, matrix1)\n",
    "\n",
    "print(\"행렬 곱 결과1:\\n\", result1)\n",
    "print(\"행렬 곱 결과2:\\n\", result2)"
   ]
  },
  {
   "cell_type": "markdown",
   "id": "da6cee3c",
   "metadata": {},
   "source": [
    "결과가 다르게 나오는 것을 확인할 수 있다."
   ]
  },
  {
   "cell_type": "markdown",
   "id": "8e30d992",
   "metadata": {},
   "source": [
    "## 행렬의 거듭제곱\n",
    "\n",
    "행렬의 거듭제곱은 $n * n$행렬인 정방행렬에서만 가능하다.  \n",
    "1. $A^0 = I$\n",
    "2. $(A^b)^c = A^{bc}$\n",
    "3. $A^bA^c = A^{b+c}$"
   ]
  },
  {
   "cell_type": "code",
   "execution_count": 13,
   "id": "d3d67365",
   "metadata": {},
   "outputs": [
    {
     "name": "stdout",
     "output_type": "stream",
     "text": [
      "[[ 9 12]\n",
      " [24 33]]\n"
     ]
    }
   ],
   "source": [
    "matrix = np.array([[1,2],[4,5]])\n",
    "\n",
    "power = np.linalg.matrix_power(matrix, 2)\n",
    "print(power)"
   ]
  },
  {
   "cell_type": "markdown",
   "id": "6cc730d5",
   "metadata": {},
   "source": [
    "## 행렬 곱의 소거법칙 적용 불가\n",
    "\n",
    "행렬 $A, B, C$에 대해 $AB = AC$라고 해서 반드시 $B = C$는 아니다. 즉, 행렬 곱에서 소거법칙은 성립하지 않는다."
   ]
  },
  {
   "cell_type": "code",
   "execution_count": 20,
   "id": "2f5d38f4",
   "metadata": {},
   "outputs": [
    {
     "name": "stdout",
     "output_type": "stream",
     "text": [
      "AB 행렬: \n",
      "[[0. 0.]\n",
      " [0. 0.]]\n",
      "AC 행렬: \n",
      "[[0. 0.]\n",
      " [0. 0.]]\n"
     ]
    }
   ],
   "source": [
    "a = np.zeros((2,2))\n",
    "b = np.array([[1,2],[3,4]])\n",
    "c = np.array([[5,6],[7,8]])\n",
    "\n",
    "ab = np.matmul(a, b)\n",
    "ac = np.matmul(a, c)\n",
    "print(\"AB 행렬: \")\n",
    "print(ab)\n",
    "print(\"AC 행렬: \")\n",
    "print(ac)"
   ]
  }
 ],
 "metadata": {
  "kernelspec": {
   "display_name": "Python 3 (ipykernel)",
   "language": "python",
   "name": "python3"
  },
  "language_info": {
   "codemirror_mode": {
    "name": "ipython",
    "version": 3
   },
   "file_extension": ".py",
   "mimetype": "text/x-python",
   "name": "python",
   "nbconvert_exporter": "python",
   "pygments_lexer": "ipython3",
   "version": "3.8.16"
  }
 },
 "nbformat": 4,
 "nbformat_minor": 5
}
