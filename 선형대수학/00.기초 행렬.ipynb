{
 "cells": [
  {
   "cell_type": "markdown",
   "id": "9f5d35fc",
   "metadata": {},
   "source": [
    "## Numpy 모듈"
   ]
  },
  {
   "cell_type": "code",
   "execution_count": 1,
   "id": "1b64b690",
   "metadata": {},
   "outputs": [],
   "source": [
    "import numpy as np"
   ]
  },
  {
   "cell_type": "markdown",
   "id": "923d3778",
   "metadata": {},
   "source": [
    "### 행렬의 덧셈"
   ]
  },
  {
   "cell_type": "code",
   "execution_count": 7,
   "id": "59c98223",
   "metadata": {},
   "outputs": [
    {
     "name": "stdout",
     "output_type": "stream",
     "text": [
      "덧셈 결과:\n",
      " [[ 6  8]\n",
      " [ 5 10]\n",
      " [ 9  3]]\n"
     ]
    }
   ],
   "source": [
    "matrix1 = np.array([[2,7], [3,4], [6,1]])\n",
    "matrix2 = np.array([[4,1], [2,6], [3,2]])\n",
    "\n",
    "result = matrix1+ matrix2\n",
    "\n",
    "print(\"덧셈 결과:\\n\", result)"
   ]
  },
  {
   "cell_type": "markdown",
   "id": "ba15779c",
   "metadata": {},
   "source": [
    "### 행렬의 뺄셈"
   ]
  },
  {
   "cell_type": "code",
   "execution_count": 9,
   "id": "b7bcf59c",
   "metadata": {
    "scrolled": true
   },
   "outputs": [
    {
     "name": "stdout",
     "output_type": "stream",
     "text": [
      "뺄셈 결과:\n",
      " [[-2  6]\n",
      " [ 1 -2]\n",
      " [ 3 -1]]\n"
     ]
    }
   ],
   "source": [
    "matrix1 = np.array([[2,7], [3,4], [6,1]])\n",
    "matrix2 = np.array([[4,1], [2,6], [3,2]])\n",
    "\n",
    "result = matrix1 - matrix2\n",
    "\n",
    "print(\"뺄셈 결과:\\n\", result)"
   ]
  },
  {
   "cell_type": "markdown",
   "id": "271d68be",
   "metadata": {},
   "source": [
    "### 행렬의 스칼라 곱"
   ]
  },
  {
   "cell_type": "code",
   "execution_count": 10,
   "id": "9b6fed9a",
   "metadata": {},
   "outputs": [
    {
     "name": "stdout",
     "output_type": "stream",
     "text": [
      "행렬의 스칼라 곱 결과:\n",
      " [[ 4 14]\n",
      " [ 6  8]\n",
      " [12  2]]\n"
     ]
    }
   ],
   "source": [
    "matrix1 = np.array([[2,7], [3,4], [6,1]])\n",
    "scalar1 = 2\n",
    "\n",
    "result = scalar1 * matrix1\n",
    "\n",
    "print(\"행렬의 스칼라 곱 결과:\\n\", result)"
   ]
  },
  {
   "cell_type": "markdown",
   "id": "0594e3cb",
   "metadata": {},
   "source": [
    "### 행렬의 원소 곱(matrix element multiplication)\n",
    "\n",
    "행렬의 크기가 같아야 하며, 같은 위치의 원소들 끼리 곱한 행렬을 결과값으로 출력한다\n",
    "\n",
    "표기는 $\\odot$ 로 한다.<br>\n",
    "ex) $$ A \\odot B $$"
   ]
  },
  {
   "cell_type": "code",
   "execution_count": 11,
   "id": "57e893ee",
   "metadata": {},
   "outputs": [
    {
     "name": "stdout",
     "output_type": "stream",
     "text": [
      "행렬의 원소 곱 결과:\n",
      " [[ 8  7]\n",
      " [ 6 24]\n",
      " [18  2]]\n"
     ]
    }
   ],
   "source": [
    "matrix1 = np.array([[2,7], [3,4], [6,1]])\n",
    "matrix2 = np.array([[4,1], [2,6], [3,2]])\n",
    "\n",
    "result = np.multiply(matrix1, matrix2)\n",
    "\n",
    "print(\"행렬의 원소 곱 결과:\\n\", result)"
   ]
  },
  {
   "cell_type": "markdown",
   "id": "b1943bde",
   "metadata": {},
   "source": [
    "### 행렬 곱\n",
    "\n",
    "행렬의 곱은 2가지 특이사항이 있다.\n",
    "\n",
    "<ol>\n",
    "    <li>2개의 행렬을 곱할 때는 크기를 확인해야 한다. <br>\n",
    "    행렬A의 크기가 $m \\times n $ 이고, 행렬 B의 크기가 $ a \\times b $ 일 경우,\n",
    "        $$ n = a \\,과 \\,같은 \\,경우만 \\,행렬 \\,곱이 \\,가능하다 $$\n",
    "    </li>\n",
    "    <li>행렬의 곱은 곱하는 순서에 따라서 결과가 다르다. <br>\n",
    "       $$ AB \\neq BA $$ \n",
    "    </li>\n",
    "<ol>"
   ]
  },
  {
   "cell_type": "code",
   "execution_count": 15,
   "id": "7e5a0d0e",
   "metadata": {},
   "outputs": [
    {
     "name": "stdout",
     "output_type": "stream",
     "text": [
      "행렬 곱 결과:\n",
      " [[ -1   8   3]\n",
      " [  5  -1  11]\n",
      " [ 17 -16  29]]\n"
     ]
    }
   ],
   "source": [
    "#예제 1\n",
    "matrix1 = np.array([[2,7], [3,4], [6,1]])\n",
    "matrix2 = np.array([[3, -3, 5], [-1, 2, -1]])\n",
    "\n",
    "result = np.matmul(matrix1, matrix2)\n",
    "\n",
    "print(\"행렬 곱 결과:\\n\", result)"
   ]
  },
  {
   "cell_type": "code",
   "execution_count": 16,
   "id": "2380ab6b",
   "metadata": {},
   "outputs": [
    {
     "name": "stdout",
     "output_type": "stream",
     "text": [
      "행렬 곱 결과1:\n",
      " [[-1  8]\n",
      " [ 5 -1]]\n",
      "행렬 곱 결과2:\n",
      " [[-3  9]\n",
      " [ 4  1]]\n"
     ]
    }
   ],
   "source": [
    "#예제2\n",
    "matrix1 = np.array([[2,7], [3,4]])\n",
    "matrix2 = np.array([[3, -3], [-1, 2]])\n",
    "\n",
    "result1 = np.matmul(matrix1, matrix2)\n",
    "result2 = np.matmul(matrix2, matrix1)\n",
    "\n",
    "print(\"행렬 곱 결과1:\\n\", result1)\n",
    "print(\"행렬 곱 결과2:\\n\", result2)"
   ]
  },
  {
   "cell_type": "markdown",
   "id": "13717161",
   "metadata": {},
   "source": [
    "결과가 다르게 나오는 것을 확인할 수 있다."
   ]
  },
  {
   "cell_type": "code",
   "execution_count": 10,
   "id": "7ebe9f77",
   "metadata": {},
   "outputs": [
    {
     "data": {
      "text/plain": [
       "array([[3],\n",
       "       [8]])"
      ]
     },
     "execution_count": 10,
     "metadata": {},
     "output_type": "execute_result"
    }
   ],
   "source": [
    "import numpy as np\n",
    "\n",
    "a = np.array([[], [-15,23]])\n",
    "b = np.array([[1], [1]])\n",
    "c = np.matmul(a,b)\n",
    "c"
   ]
  },
  {
   "cell_type": "code",
   "execution_count": null,
   "id": "cfc85fec",
   "metadata": {},
   "outputs": [],
   "source": []
  }
 ],
 "metadata": {
  "kernelspec": {
   "display_name": "Python 3 (ipykernel)",
   "language": "python",
   "name": "python3"
  },
  "language_info": {
   "codemirror_mode": {
    "name": "ipython",
    "version": 3
   },
   "file_extension": ".py",
   "mimetype": "text/x-python",
   "name": "python",
   "nbconvert_exporter": "python",
   "pygments_lexer": "ipython3",
   "version": "3.8.16"
  }
 },
 "nbformat": 4,
 "nbformat_minor": 5
}
