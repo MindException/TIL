{
 "cells": [
  {
   "cell_type": "markdown",
   "id": "c5db33de",
   "metadata": {},
   "source": [
    "# Neural Network"
   ]
  },
  {
   "cell_type": "code",
   "execution_count": null,
   "id": "1d7be402",
   "metadata": {},
   "outputs": [],
   "source": []
  },
  {
   "cell_type": "code",
   "execution_count": 1,
   "id": "a96c33fa",
   "metadata": {},
   "outputs": [],
   "source": [
    "import torch\n",
    "import torch.nn as nn"
   ]
  },
  {
   "cell_type": "code",
   "execution_count": 2,
   "id": "8b8b2731",
   "metadata": {},
   "outputs": [],
   "source": [
    "class NeuralNetwork(nn.Module):\n",
    "    \n",
    "    # 여기서는 입력 차원의 수와 출력 차원의 수를 받을 수 있도록 만든 것이다.\n",
    "    def __init__(self, input_dim, output_dim):\n",
    "        \n",
    "        super().__init__()\n",
    "        # __init__() 에서 신경망 계층 초기화\n",
    "        self.W = nn.Parameter(torch.FloatTensor(input_dim, output_dim))\n",
    "        self.b = nn.Parameter(torch.FloatTensor(output_dim))\n",
    "    \n",
    "    # 순전파 정의\n",
    "    def forward(self, x):\n",
    "        \n",
    "        # 행렬곱 후에 편향치 추가\n",
    "        y = torch.matmul(x, self.W) + self.b\n",
    "        return y"
   ]
  },
  {
   "cell_type": "markdown",
   "id": "b8718755",
   "metadata": {},
   "source": [
    "### __init__()\n",
    "\n",
    "* torch.FloatTensor(인자1, 인자2, ...)에는 랜덤 값이 들어가게 된다.\n",
    "* __nn.Parameter__: 계수(Parameter) 선언을 하여 준다.\n",
    "\n",
    "### forward\n",
    "\n",
    "* 모든 계산은 여기서 이루어진다.\n",
    "* 위의 식은 Ax = b인 선형 방정식 계산으로 구현하였다."
   ]
  },
  {
   "cell_type": "code",
   "execution_count": 18,
   "id": "032b5f6a",
   "metadata": {},
   "outputs": [
    {
     "name": "stdout",
     "output_type": "stream",
     "text": [
      "tensor([0., 0., 0.], grad_fn=<AddBackward0>) torch.Size([3])\n",
      "ㅡㅡㅡㅡㅡ\n",
      "Parameter containing:\n",
      "tensor([[0., 0., 0.],\n",
      "        [0., 0., 0.],\n",
      "        [0., 0., 0.],\n",
      "        [0., 0., 0.]], requires_grad=True)\n",
      "Parameter containing:\n",
      "tensor([0., 0., 0.], requires_grad=True)\n"
     ]
    }
   ],
   "source": [
    "x = torch.FloatTensor(4)\n",
    "mylinear = NeuralNetwork(4, 3)\n",
    "y = mylinear(x)\n",
    "print (y, y.shape)\n",
    "print(\"ㅡㅡㅡㅡㅡ\")\n",
    "for param in mylinear.parameters():\n",
    "    print (param)"
   ]
  },
  {
   "cell_type": "markdown",
   "id": "489b1196",
   "metadata": {},
   "source": [
    "* 위에서 mylinear을 선언하였는데도 함수처럼 사용할 수 있는 이유는 nn.Module에서 \\_\\_call\\_\\_ 함수를 정의하였기 때문이다.\n",
    "* 내부 처리 중, forward() 전처리/후처리도 수행하므로, forward() 를 직접 호출하면, 전처리/후처리를 수행하지 않게될 수 있다."
   ]
  },
  {
   "cell_type": "markdown",
   "id": "d7c3cd06",
   "metadata": {},
   "source": [
    "## nn.Linear 클래스\n",
    "\n",
    "위의 클래스 구현은 __nn.Linear__ 클래스를 실제로 약소하게 구현하여 본 것이다."
   ]
  },
  {
   "cell_type": "code",
   "execution_count": 5,
   "id": "8e7e97f0",
   "metadata": {},
   "outputs": [
    {
     "name": "stdout",
     "output_type": "stream",
     "text": [
      "tensor([ 0.3218, -0.6031, -0.4534], grad_fn=<AddBackward0>) torch.Size([3])\n",
      "Parameter containing:\n",
      "tensor([[ 0.0200,  0.3962,  0.1568,  0.0671],\n",
      "        [-0.2824, -0.3887,  0.4142, -0.3472],\n",
      "        [-0.1647, -0.0793,  0.4195, -0.4433]], requires_grad=True)\n",
      "Parameter containing:\n",
      "tensor([ 0.1965, -0.4802, -0.4283], requires_grad=True)\n"
     ]
    }
   ],
   "source": [
    "mylinear = nn.Linear(4, 3)\n",
    "y = mylinear(x)\n",
    "print (y, y.shape)\n",
    "\n",
    "for param in mylinear.parameters():\n",
    "    print (param)"
   ]
  },
  {
   "cell_type": "markdown",
   "id": "c0bf114e",
   "metadata": {},
   "source": [
    "* nn.Linear에서는 기본적으로 w와 b가 초기화가 되어서 나온다."
   ]
  }
 ],
 "metadata": {
  "kernelspec": {
   "display_name": "Python 3 (ipykernel)",
   "language": "python",
   "name": "python3"
  },
  "language_info": {
   "codemirror_mode": {
    "name": "ipython",
    "version": 3
   },
   "file_extension": ".py",
   "mimetype": "text/x-python",
   "name": "python",
   "nbconvert_exporter": "python",
   "pygments_lexer": "ipython3",
   "version": "3.8.16"
  }
 },
 "nbformat": 4,
 "nbformat_minor": 5
}
