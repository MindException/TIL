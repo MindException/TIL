{
 "cells": [
  {
   "cell_type": "markdown",
   "metadata": {
    "id": "8MosdP050iot"
   },
   "source": [
    "# Data Visualization"
   ]
  },
  {
   "cell_type": "markdown",
   "metadata": {
    "id": "03V0VM1u0pqT"
   },
   "source": [
    "데이터 품질 및 분포 특성을 시각적으로 확인하기 위해 사용\n",
    "\n",
    "\n",
    "데이터 이해 및 분석 결과를 설들력 있게 표현하기 위해 사용\n"
   ]
  },
  {
   "cell_type": "markdown",
   "metadata": {
    "id": "wL6QN57v08Es"
   },
   "source": [
    "모집단 : 분석이 대상이 되는 전체\n",
    "\n",
    "\n",
    "표본집단 : 모집단에서 추출된 모집단의 부분집합\n",
    "\n",
    "모집단의 특성을 추정하기 위해서 통계적인 기법을 사용"
   ]
  },
  {
   "cell_type": "code",
   "execution_count": 1,
   "metadata": {
    "id": "XHqz_yl11UFQ"
   },
   "outputs": [
    {
     "data": {
      "text/html": [
       "<div>\n",
       "<style scoped>\n",
       "    .dataframe tbody tr th:only-of-type {\n",
       "        vertical-align: middle;\n",
       "    }\n",
       "\n",
       "    .dataframe tbody tr th {\n",
       "        vertical-align: top;\n",
       "    }\n",
       "\n",
       "    .dataframe thead th {\n",
       "        text-align: right;\n",
       "    }\n",
       "</style>\n",
       "<table border=\"1\" class=\"dataframe\">\n",
       "  <thead>\n",
       "    <tr style=\"text-align: right;\">\n",
       "      <th></th>\n",
       "      <th>sepal_length</th>\n",
       "      <th>sepal_width</th>\n",
       "      <th>petal_length</th>\n",
       "      <th>petal_width</th>\n",
       "      <th>species</th>\n",
       "    </tr>\n",
       "  </thead>\n",
       "  <tbody>\n",
       "    <tr>\n",
       "      <th>0</th>\n",
       "      <td>5.1</td>\n",
       "      <td>3.5</td>\n",
       "      <td>1.4</td>\n",
       "      <td>0.2</td>\n",
       "      <td>setosa</td>\n",
       "    </tr>\n",
       "    <tr>\n",
       "      <th>1</th>\n",
       "      <td>4.9</td>\n",
       "      <td>3.0</td>\n",
       "      <td>1.4</td>\n",
       "      <td>0.2</td>\n",
       "      <td>setosa</td>\n",
       "    </tr>\n",
       "    <tr>\n",
       "      <th>2</th>\n",
       "      <td>4.7</td>\n",
       "      <td>3.2</td>\n",
       "      <td>1.3</td>\n",
       "      <td>0.2</td>\n",
       "      <td>setosa</td>\n",
       "    </tr>\n",
       "    <tr>\n",
       "      <th>3</th>\n",
       "      <td>4.6</td>\n",
       "      <td>3.1</td>\n",
       "      <td>1.5</td>\n",
       "      <td>0.2</td>\n",
       "      <td>setosa</td>\n",
       "    </tr>\n",
       "    <tr>\n",
       "      <th>4</th>\n",
       "      <td>5.0</td>\n",
       "      <td>3.6</td>\n",
       "      <td>1.4</td>\n",
       "      <td>0.2</td>\n",
       "      <td>setosa</td>\n",
       "    </tr>\n",
       "  </tbody>\n",
       "</table>\n",
       "</div>"
      ],
      "text/plain": [
       "   sepal_length  sepal_width  petal_length  petal_width species\n",
       "0           5.1          3.5           1.4          0.2  setosa\n",
       "1           4.9          3.0           1.4          0.2  setosa\n",
       "2           4.7          3.2           1.3          0.2  setosa\n",
       "3           4.6          3.1           1.5          0.2  setosa\n",
       "4           5.0          3.6           1.4          0.2  setosa"
      ]
     },
     "execution_count": 1,
     "metadata": {},
     "output_type": "execute_result"
    }
   ],
   "source": [
    "import seaborn as sns\n",
    "iris = sns.load_dataset('iris')\n",
    "iris.head()"
   ]
  },
  {
   "cell_type": "code",
   "execution_count": 2,
   "metadata": {
    "id": "ITQXsAGM1yHv"
   },
   "outputs": [
    {
     "name": "stdout",
     "output_type": "stream",
     "text": [
      "<class 'pandas.core.frame.DataFrame'>\n",
      "RangeIndex: 150 entries, 0 to 149\n",
      "Data columns (total 5 columns):\n",
      " #   Column        Non-Null Count  Dtype  \n",
      "---  ------        --------------  -----  \n",
      " 0   sepal_length  150 non-null    float64\n",
      " 1   sepal_width   150 non-null    float64\n",
      " 2   petal_length  150 non-null    float64\n",
      " 3   petal_width   150 non-null    float64\n",
      " 4   species       150 non-null    object \n",
      "dtypes: float64(4), object(1)\n",
      "memory usage: 6.0+ KB\n"
     ]
    }
   ],
   "source": [
    "iris.info()"
   ]
  },
  {
   "cell_type": "code",
   "execution_count": 3,
   "metadata": {
    "id": "W3xAUrSx1-CN"
   },
   "outputs": [],
   "source": [
    "setosa_petal_length = iris[iris['species']=='setosa']['petal_length']"
   ]
  },
  {
   "cell_type": "code",
   "execution_count": 4,
   "metadata": {
    "id": "1MXE4bgU2rIT"
   },
   "outputs": [
    {
     "data": {
      "image/png": "[encoded data removed]",
      "text/plain": [
       "<Figure size 432x288 with 1 Axes>"
      ]
     },
     "metadata": {
      "needs_background": "light"
     },
     "output_type": "display_data"
    }
   ],
   "source": [
    "import matplotlib.pyplot as plt\n",
    "plt.hist(setosa_petal_length)\n",
    "plt.show()"
   ]
  },
  {
   "cell_type": "code",
   "execution_count": 5,
   "metadata": {
    "id": "wMMaT7l63aZT"
   },
   "outputs": [
    {
     "data": {
      "image/png": "[encoded data removed]",
      "text/plain": [
       "<Figure size 432x288 with 1 Axes>"
      ]
     },
     "metadata": {
      "needs_background": "light"
     },
     "output_type": "display_data"
    }
   ],
   "source": [
    "iris[iris['species']=='setosa']['petal_length'].plot.density()\n",
    "plt.show()"
   ]
  },
  {
   "cell_type": "markdown",
   "metadata": {
    "id": "AM-pYD0y4wT2"
   },
   "source": [
    "커널 밀도 추정은 커널 함수를 이용한 밀도 추정 방법 중 하나\n",
    "\n",
    "밀도 추정이란 추출된 데이터들을 이용해서 밀도함수를 구하는 것\n",
    "\n"
   ]
  },
  {
   "cell_type": "code",
   "execution_count": 6,
   "metadata": {
    "id": "adYOkZBI5w98"
   },
   "outputs": [
    {
     "data": {
      "image/png": "[encoded data removed]",
      "text/plain": [
       "<Figure size 432x288 with 1 Axes>"
      ]
     },
     "metadata": {
      "needs_background": "light"
     },
     "output_type": "display_data"
    }
   ],
   "source": [
    "ax = iris[iris['species'] == 'setosa']['petal_length'].plot.hist(density=True)\n",
    "iris[iris['species'] == 'setosa']['petal_length'].plot.density(ax=ax)\n",
    "plt.show()"
   ]
  },
  {
   "cell_type": "markdown",
   "metadata": {
    "id": "xUODk3tK7C02"
   },
   "source": []
  },
  {
   "cell_type": "markdown",
   "metadata": {
    "id": "KQd6XzHH6dig"
   },
   "source": [
    "**왜도(Skewness)**\n",
    "\n",
    "데이터의 분포에 따라서 오른쪽으로 치우쳤는지 왼쪽으로 치우쳤는지를 확인확인\n",
    "\n",
    "Nagative skewness : 데이터의 중심이 오른쪽이 치우쳐졌을때\n",
    "\n",
    "Positive skewness : 데이터의 중심이 왼쪽에 치우쳐졌을때"
   ]
  },
  {
   "cell_type": "markdown",
   "metadata": {
    "id": "r2_LKLdk8iBi"
   },
   "source": [
    "**첨도(Kurtosis)**\n",
    "\n",
    "\n",
    "데이터가 얼마나 평균에 모여있는지\n",
    "\n",
    "Leptokurtic(고첨) : 정규분포바다 많이 몰려 있어서 뾰족\n",
    "\n",
    "\n",
    "Mesokutic(중첨) : 정규 분포와 유사\n",
    "\n",
    "\n",
    "Pltykutic(저첨) : 정규 분포보다 완만"
   ]
  },
  {
   "cell_type": "code",
   "execution_count": 7,
   "metadata": {
    "id": "eyyzQpd78ehW"
   },
   "outputs": [
    {
     "data": {
      "image/png": "[encoded data removed]",
      "text/plain": [
       "<Figure size 432x288 with 1 Axes>"
      ]
     },
     "metadata": {
      "needs_background": "light"
     },
     "output_type": "display_data"
    }
   ],
   "source": [
    "fig, ax = plt.subplots(1,1)\n",
    "\n",
    "for species in iris['species'].unique():\n",
    "  width_series = iris[iris['species']==species]['sepal_width']\n",
    "  width_series.plot.hist(alpha = 0.5, ax=ax, label=species)\n",
    "plt.legend()\n",
    "plt.show()"
   ]
  },
  {
   "cell_type": "code",
   "execution_count": 8,
   "metadata": {
    "id": "_Of70i_u93wm"
   },
   "outputs": [
    {
     "data": {
      "image/png": "[encoded data removed]",
      "text/plain": [
       "<Figure size 864x576 with 4 Axes>"
      ]
     },
     "metadata": {
      "needs_background": "light"
     },
     "output_type": "display_data"
    }
   ],
   "source": [
    "# Box Plot\n",
    "iris.boxplot(by='species', layout=(2,2), figsize=(12,8))\n",
    "plt.show()"
   ]
  },
  {
   "cell_type": "code",
   "execution_count": 9,
   "metadata": {
    "id": "StbHWpSU96Ac"
   },
   "outputs": [
    {
     "data": {
      "image/png": "[encoded data removed]",
      "text/plain": [
       "<Figure size 864x576 with 4 Axes>"
      ]
     },
     "metadata": {
      "needs_background": "light"
     },
     "output_type": "display_data"
    }
   ],
   "source": [
    "# Violin plot\n",
    "fig, ax = plt.subplots(2,2, figsize=(12,8))\n",
    "\n",
    "for i, col in enumerate(['petal_length','petal_width','sepal_length','sepal_width']):\n",
    "  sns.violinplot(data=iris, x='species', y=col, ax=ax[i//2][i%2])\n",
    "\n",
    "plt.show()                 "
   ]
  },
  {
   "cell_type": "markdown",
   "metadata": {
    "id": "R8jbJQ3gGMHd"
   },
   "source": [
    "## 단어\n",
    "**모집단**\n",
    "* 조사 대상이 되는 모든집단\n",
    "\n",
    "**표폰(Sampling)집단**\n",
    "* 모집단의 부분집합\n",
    "\n",
    "**모수**\n",
    "* 모집단의 어떤 값\n",
    "\n",
    "**통계량**\n",
    "* 표본 집단의 정보\n"
   ]
  },
  {
   "cell_type": "markdown",
   "metadata": {
    "id": "iGcNNQXWDut1"
   },
   "source": [
    "## 데이터의 중심\n",
    "\n",
    "**최빈값(mode)**\n",
    "\n",
    "* 빈도가 가장 높은값\n",
    "* 범주형 데이터의 대표값\n",
    "* 2개 이상 존재\n",
    "\n",
    "\n",
    "**중앙값**\n",
    "* 데이터를 내림차순 해서 가장 중간에 있는 데이터\n",
    "* 짝수개 일 경우는 중앙에 있는 데이터 두개를 더하고 나눈 값이 중앙값\n",
    "\n",
    "\n",
    "**산술평균**\n",
    "* 일반적으로 사용하는 평균\n",
    "* 극단값 이상치에 영향을 많이 받는 통계량\n",
    "* 데이터의 개수로 나눔\n",
    "* 절삭평균으로 극단값에 대해 보정\n",
    "\n",
    "**가중평균**\n",
    "* 일반적인 산술 평균 각각의 데이터마다 중요도에 따라서 가중치\n",
    "* 가중치를 다 더한 값으로 나눠줌\n",
    "\n",
    "**기하평균**\n",
    "* 성장률이나 증가율 이런 비율에 대한 데이터를 평균 낼 때 사용\n",
    "* 음수나 0의 데이터가 있는 경우에는 적용을 못합니다.\n",
    "\n",
    "**편차**\n",
    "* 데이터 값과 평균을 빼준 값\n",
    "\n",
    "**분산**\n",
    "* 편차의 제곱의 합을 데이터 수로 나눈 값\n",
    "* 편차를 다 더하면 0나오기 때문에 제곱을 진행\n",
    "* 편차가 큰 데이터 값에 대해 영향정도를 키우기 위해서\n",
    "\n",
    "**표준편차**\n",
    "* 분산의 제곱근을 한 값"
   ]
  },
  {
   "cell_type": "code",
   "execution_count": 10,
   "metadata": {
    "id": "4KkciTszIj44"
   },
   "outputs": [],
   "source": [
    "import numpy as np\n",
    "data = np.arange(10, 20, 0.1)"
   ]
  },
  {
   "cell_type": "code",
   "execution_count": 11,
   "metadata": {
    "id": "ZlINiivCItfy"
   },
   "outputs": [
    {
     "data": {
      "text/plain": [
       "14.949999999999978"
      ]
     },
     "execution_count": 11,
     "metadata": {},
     "output_type": "execute_result"
    }
   ],
   "source": [
    "sum_ = 0\n",
    "for i in data:\n",
    "  sum_ += i\n",
    "sum_/len(data)\n",
    "# data.mean()"
   ]
  },
  {
   "cell_type": "code",
   "execution_count": 12,
   "metadata": {
    "id": "B6goSgV7I5_Q"
   },
   "outputs": [
    {
     "data": {
      "text/plain": [
       "14.949999999999982"
      ]
     },
     "execution_count": 12,
     "metadata": {},
     "output_type": "execute_result"
    }
   ],
   "source": [
    "data.mean()"
   ]
  },
  {
   "cell_type": "code",
   "execution_count": 13,
   "metadata": {
    "id": "f3Z1ntbYJjDP"
   },
   "outputs": [
    {
     "name": "stdout",
     "output_type": "stream",
     "text": [
      "\n",
      "mean = 3.7\n",
      "절삭평균 = 3.25\n",
      "중앙값 = 3.0\n",
      "\n"
     ]
    }
   ],
   "source": [
    "from scipy.stats import trim_mean\n",
    "data = np.array([1, 2, 2, 3, 3, 3, 4, 4, 5, 10])\n",
    "mean_ = np.mean(data)\n",
    "trim_mean_ = trim_mean(data, 0.1)\n",
    "median = np.median(data)\n",
    "print(f'''\n",
    "mean = {mean_}\n",
    "절삭평균 = {trim_mean_}\n",
    "중앙값 = {median}\n",
    "''')"
   ]
  },
  {
   "cell_type": "code",
   "execution_count": 14,
   "metadata": {
    "id": "4XEO_7qAK3xW"
   },
   "outputs": [
    {
     "name": "stdout",
     "output_type": "stream",
     "text": [
      "\n",
      "mean = 909090912.3636364\n",
      "절삭평균 = 4.0\n",
      "중앙값 = 3.0\n",
      "\n"
     ]
    }
   ],
   "source": [
    "from scipy.stats import trim_mean\n",
    "data = np.array([1, 2, 2, 3, 3, 3, 4, 4, 5, 10, 9999999999])\n",
    "mean_ = np.mean(data)\n",
    "trim_mean_ = trim_mean(data, 0.1)\n",
    "median = np.median(data)\n",
    "print(f'''\n",
    "mean = {mean_}\n",
    "절삭평균 = {trim_mean_}\n",
    "중앙값 = {median}\n",
    "''')"
   ]
  },
  {
   "cell_type": "code",
   "execution_count": 15,
   "metadata": {
    "id": "4Mk96i0GLJXd"
   },
   "outputs": [
    {
     "name": "stdout",
     "output_type": "stream",
     "text": [
      "중앙값 :  3\n"
     ]
    }
   ],
   "source": [
    "data = np.array([1, 2, 2, 3, 3, 3, 4, 4, 5, 10, 9999999999])\n",
    "data_length = len(data)\n",
    "\n",
    "if data_length %2 == 0:\n",
    "  idx = data_length//2\n",
    "  median = (data[idx] + data[idx+1])/2\n",
    "\n",
    "else:\n",
    "  idx = data_length//2\n",
    "  median = data[idx]\n",
    "  \n",
    "print('중앙값 : ', median)"
   ]
  },
  {
   "cell_type": "markdown",
   "metadata": {
    "id": "0Aw74YJ3RqN0"
   },
   "source": [
    "### 가중평균"
   ]
  },
  {
   "cell_type": "code",
   "execution_count": 16,
   "metadata": {
    "id": "QXjMu9vUMS3j"
   },
   "outputs": [],
   "source": [
    "data = np.array([10, 20, 30, 40, 50 ,60 ,70, 80, 90, 100])\n",
    "weights = np.array([0.1, 0.05, 0.3, 0.05, 0.15, 0.025, 0.025, 0.05, 0.125 ,0.175])"
   ]
  },
  {
   "cell_type": "code",
   "execution_count": 17,
   "metadata": {
    "id": "mIat2WuyPNv9"
   },
   "outputs": [
    {
     "name": "stdout",
     "output_type": "stream",
     "text": [
      "53.80952380952381\n"
     ]
    }
   ],
   "source": [
    "sum_ = 0\n",
    "for idx in range(len(data)):\n",
    "  sum_ += weights[idx]*data[idx]\n",
    "print(sum_/sum(weights))"
   ]
  },
  {
   "cell_type": "markdown",
   "metadata": {
    "id": "7W-UxgsjRuJc"
   },
   "source": [
    "### 최빈값"
   ]
  },
  {
   "cell_type": "code",
   "execution_count": 18,
   "metadata": {
    "id": "2CFrUXroRwKH"
   },
   "outputs": [
    {
     "data": {
      "text/plain": [
       "7"
      ]
     },
     "execution_count": 18,
     "metadata": {},
     "output_type": "execute_result"
    }
   ],
   "source": [
    "import numpy as np\n",
    "data = np.array([1,1,2,2,2,3,4,5,6,7,7,7,7,7,8,8,9,10])\n",
    "count_dict = dict()\n",
    "for d in data:\n",
    "  if d not in count_dict:\n",
    "    count_dict[d] = 1\n",
    "  else:\n",
    "    count_dict[d] += 1\n",
    "\n",
    "def func(x):\n",
    "  return x[1]\n",
    "\n",
    "sorted(count_dict.items(), key=lambda x: x[1], reverse=True)[0][0]"
   ]
  },
  {
   "cell_type": "markdown",
   "metadata": {
    "id": "DUvrglrZTfJe"
   },
   "source": [
    "## 편차 표준편차 분산"
   ]
  },
  {
   "cell_type": "code",
   "execution_count": 19,
   "metadata": {
    "id": "uV8452IwTGB4"
   },
   "outputs": [],
   "source": [
    "norm = np.random.normal(10.0, 2.0, 100)"
   ]
  },
  {
   "cell_type": "code",
   "execution_count": 20,
   "metadata": {
    "id": "s46jBXyNT0MJ"
   },
   "outputs": [],
   "source": [
    "# 평균\n",
    "norm_mean = norm.mean()"
   ]
  },
  {
   "cell_type": "code",
   "execution_count": 21,
   "metadata": {
    "id": "faHhaFZBT16u"
   },
   "outputs": [],
   "source": [
    "# 편차\n",
    "norm_dev = [i-norm_mean for i in norm]"
   ]
  },
  {
   "cell_type": "code",
   "execution_count": 22,
   "metadata": {
    "id": "SNeApIk-UFnb"
   },
   "outputs": [],
   "source": [
    "# 분산\n",
    "norm_var = sum([i**2 for i in norm_dev])/(len(norm) - 1)"
   ]
  },
  {
   "cell_type": "code",
   "execution_count": 23,
   "metadata": {
    "id": "LQS-EfY5Us1M"
   },
   "outputs": [
    {
     "data": {
      "text/plain": [
       "2.3731014413925897"
      ]
     },
     "execution_count": 23,
     "metadata": {},
     "output_type": "execute_result"
    }
   ],
   "source": [
    "# 표준편차\n",
    "import math\n",
    "math.sqrt(norm_var)\n",
    "# np.std(norm_var) # 넘파이 내 표준편차 구하는 메서드"
   ]
  },
  {
   "cell_type": "markdown",
   "metadata": {
    "id": "vUOg3fsvVvEm"
   },
   "source": [
    "### 기하평균"
   ]
  },
  {
   "cell_type": "code",
   "execution_count": 24,
   "metadata": {
    "id": "-_qR3Wt7VE77"
   },
   "outputs": [],
   "source": [
    "score_rate = [1.1, 2.1, 0.91, 0.14, 0.51]\n",
    "mul_ = 1\n",
    "for rate in score_rate:\n",
    "  mul_ *= rate\n",
    "\n",
    "geometric_mean = mul_**(1/len(score_rate))"
   ]
  },
  {
   "cell_type": "code",
   "execution_count": 25,
   "metadata": {
    "id": "4DZ1ha7rWlCo"
   },
   "outputs": [
    {
     "data": {
      "text/plain": [
       "0.6843374651564551"
      ]
     },
     "execution_count": 25,
     "metadata": {},
     "output_type": "execute_result"
    }
   ],
   "source": [
    "geometric_mean"
   ]
  },
  {
   "cell_type": "code",
   "execution_count": null,
   "metadata": {
    "id": "BuK-iU7tWmGQ"
   },
   "outputs": [],
   "source": []
  }
 ],
 "metadata": {
  "colab": {
   "private_outputs": true,
   "provenance": []
  },
  "kernelspec": {
   "display_name": "Python 3 (ipykernel)",
   "language": "python",
   "name": "python3"
  },
  "language_info": {
   "codemirror_mode": {
    "name": "ipython",
    "version": 3
   },
   "file_extension": ".py",
   "mimetype": "text/x-python",
   "name": "python",
   "nbconvert_exporter": "python",
   "pygments_lexer": "ipython3",
   "version": "3.9.7"
  }
 },
 "nbformat": 4,
 "nbformat_minor": 1
}
